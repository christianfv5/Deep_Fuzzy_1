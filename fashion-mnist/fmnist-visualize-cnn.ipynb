{
 "cells": [
  {
   "cell_type": "code",
   "execution_count": 63,
   "metadata": {},
   "outputs": [],
   "source": [
    "import gzip\n",
    "import numpy as np\n",
    "import matplotlib.pyplot as plt\n",
    "\n",
    "def load_data(filename, dims):\n",
    "    with gzip.open(filename, \"rb\") as infile:\n",
    "        # consume magic number\n",
    "        infile.read(4)\n",
    "        # consume dimensions data\n",
    "        infile.read(4 * len(dims))\n",
    "\n",
    "        return np.frombuffer(infile.read(np.prod(dims)), dtype=np.uint8).reshape(dims)\n",
    "\n",
    "# training data\n",
    "train_images = load_data(\"data/train-images-idx3-ubyte.gz\", [60000, 28, 28])\n",
    "train_labels = load_data(\"data/train-labels-idx1-ubyte.gz\", [60000])\n",
    "\n",
    "# testing data\n",
    "test_images = load_data(\"data/t10k-images-idx3-ubyte.gz\", [10000, 28, 28])\n",
    "test_labels = load_data(\"data/t10k-labels-idx1-ubyte.gz\", [10000])"
   ]
  },
  {
   "cell_type": "code",
   "execution_count": 64,
   "metadata": {},
   "outputs": [],
   "source": [
    "train_x = train_images.astype(np.float) / 255\n",
    "train_y = np.zeros((60000, 10))\n",
    "train_y[np.arange(60000),train_labels] = 1\n",
    "\n",
    "test_x = test_images.astype(np.float) / 255\n",
    "test_y = np.zeros((10000, 10))\n",
    "test_y[np.arange(10000),test_labels] = 1"
   ]
  },
  {
   "cell_type": "code",
   "execution_count": 42,
   "metadata": {
    "scrolled": true
   },
   "outputs": [
    {
     "name": "stdout",
     "output_type": "stream",
     "text": [
      "Train on 60000 samples, validate on 10000 samples\n",
      "Epoch 1/20\n",
      "60000/60000 [==============================] - 6s 93us/step - loss: 0.3671 - categorical_accuracy: 0.2340 - val_loss: 0.2814 - val_categorical_accuracy: 0.5305\n",
      "Epoch 2/20\n",
      "60000/60000 [==============================] - 5s 77us/step - loss: 0.2261 - categorical_accuracy: 0.7041 - val_loss: 0.1779 - val_categorical_accuracy: 0.8011\n",
      "Epoch 3/20\n",
      "60000/60000 [==============================] - 5s 77us/step - loss: 0.1472 - categorical_accuracy: 0.8314 - val_loss: 0.1260 - val_categorical_accuracy: 0.8373\n",
      "Epoch 4/20\n",
      "60000/60000 [==============================] - 5s 77us/step - loss: 0.1085 - categorical_accuracy: 0.8596 - val_loss: 0.1001 - val_categorical_accuracy: 0.8528\n",
      "Epoch 5/20\n",
      "60000/60000 [==============================] - 5s 78us/step - loss: 0.0869 - categorical_accuracy: 0.8749 - val_loss: 0.0845 - val_categorical_accuracy: 0.8683\n",
      "Epoch 6/20\n",
      "60000/60000 [==============================] - 5s 78us/step - loss: 0.0731 - categorical_accuracy: 0.8891 - val_loss: 0.0733 - val_categorical_accuracy: 0.8807\n",
      "Epoch 7/20\n",
      "60000/60000 [==============================] - 5s 78us/step - loss: 0.0637 - categorical_accuracy: 0.9000 - val_loss: 0.0682 - val_categorical_accuracy: 0.8811\n",
      "Epoch 8/20\n",
      "60000/60000 [==============================] - 5s 80us/step - loss: 0.0568 - categorical_accuracy: 0.9070 - val_loss: 0.0629 - val_categorical_accuracy: 0.8921\n",
      "Epoch 9/20\n",
      "60000/60000 [==============================] - 5s 77us/step - loss: 0.0518 - categorical_accuracy: 0.9136 - val_loss: 0.0610 - val_categorical_accuracy: 0.8905\n",
      "Epoch 10/20\n",
      "60000/60000 [==============================] - 4s 75us/step - loss: 0.0478 - categorical_accuracy: 0.9198 - val_loss: 0.0571 - val_categorical_accuracy: 0.8962\n",
      "Epoch 11/20\n",
      "60000/60000 [==============================] - 4s 75us/step - loss: 0.0445 - categorical_accuracy: 0.9247 - val_loss: 0.0559 - val_categorical_accuracy: 0.9004\n",
      "Epoch 12/20\n",
      "60000/60000 [==============================] - 5s 76us/step - loss: 0.0418 - categorical_accuracy: 0.9294 - val_loss: 0.0544 - val_categorical_accuracy: 0.9006\n",
      "Epoch 13/20\n",
      "60000/60000 [==============================] - 5s 76us/step - loss: 0.0395 - categorical_accuracy: 0.9318 - val_loss: 0.0535 - val_categorical_accuracy: 0.9020\n",
      "Epoch 14/20\n",
      "60000/60000 [==============================] - 5s 76us/step - loss: 0.0379 - categorical_accuracy: 0.9340 - val_loss: 0.0526 - val_categorical_accuracy: 0.9034\n",
      "Epoch 15/20\n",
      "60000/60000 [==============================] - 4s 74us/step - loss: 0.0361 - categorical_accuracy: 0.9377 - val_loss: 0.0519 - val_categorical_accuracy: 0.9058\n",
      "Epoch 16/20\n",
      "60000/60000 [==============================] - 5s 76us/step - loss: 0.0343 - categorical_accuracy: 0.9412 - val_loss: 0.0516 - val_categorical_accuracy: 0.9071\n",
      "Epoch 17/20\n",
      "60000/60000 [==============================] - 5s 76us/step - loss: 0.0327 - categorical_accuracy: 0.9450 - val_loss: 0.0537 - val_categorical_accuracy: 0.9021\n",
      "Epoch 18/20\n",
      "60000/60000 [==============================] - 5s 76us/step - loss: 0.0316 - categorical_accuracy: 0.9458 - val_loss: 0.0519 - val_categorical_accuracy: 0.9073\n",
      "Epoch 19/20\n",
      "60000/60000 [==============================] - 5s 79us/step - loss: 0.0300 - categorical_accuracy: 0.9489 - val_loss: 0.0523 - val_categorical_accuracy: 0.9058\n",
      "Epoch 20/20\n",
      "60000/60000 [==============================] - 5s 78us/step - loss: 0.0290 - categorical_accuracy: 0.9508 - val_loss: 0.0541 - val_categorical_accuracy: 0.9027\n"
     ]
    },
    {
     "data": {
      "image/png": "[encoded data removed]",
      "text/plain": [
       "<Figure size 576x288 with 2 Axes>"
      ]
     },
     "metadata": {
      "needs_background": "light"
     },
     "output_type": "display_data"
    }
   ],
   "source": [
    "import keras\n",
    "import keras.layers as layers\n",
    "import keras.models as models\n",
    "import keras.backend as K\n",
    "from model import GaussMembership, normalized_product_fn\n",
    "\n",
    "\n",
    "def train_hybrid():\n",
    "    model = keras.Sequential([\n",
    "        layers.Reshape((28,28,1), input_shape=(28,28)),\n",
    "        layers.Conv2D(16, (3, 3), strides=(2,2), padding=\"same\", activation=\"relu\"),\n",
    "        layers.Conv2D(32, (3, 3), strides=(2,2), padding=\"same\", activation=\"relu\"),\n",
    "        layers.Conv2D(64, (3, 3), strides=(2,2), padding=\"same\", activation=\"relu\"),\n",
    "        layers.Flatten(),\n",
    "        GaussMembership(10),\n",
    "        layers.Lambda(lambda x: normalized_product_fn(x)),\n",
    "        layers.Dense(10, activation=\"sigmoid\"),\n",
    "    ])\n",
    "    \n",
    "    model.compile(\n",
    "        optimizer=\"adam\",\n",
    "        loss=\"binary_crossentropy\",\n",
    "        metrics=[keras.metrics.categorical_accuracy])\n",
    "\n",
    "    # train the model\n",
    "    history = model.fit(\n",
    "        x=train_x,\n",
    "        y=train_y,\n",
    "        batch_size=64,\n",
    "        epochs=20,\n",
    "        validation_data=(test_x, test_y),\n",
    "        verbose=1,\n",
    "        shuffle=True)\n",
    "    \n",
    "    # plot the loss and accuracy\n",
    "    fig, axes = plt.subplots(1, 2, figsize=(8, 4), squeeze=True)\n",
    "    axes[0].set_title(\"Loss\")\n",
    "    axes[0].plot(history.history[\"loss\"], c=\"b\")\n",
    "    axes[0].plot(history.history[\"val_loss\"], c=\"r\")\n",
    "\n",
    "    axes[1].set_title(\"Accuracy\")\n",
    "    axes[1].plot(history.history[\"categorical_accuracy\"], c=\"b\")\n",
    "    axes[1].plot(history.history[\"val_categorical_accuracy\"], c=\"r\")\n",
    "\n",
    "    return model\n",
    "\n",
    "\n",
    "hybrid_model = train_hybrid()"
   ]
  },
  {
   "cell_type": "code",
   "execution_count": 159,
   "metadata": {},
   "outputs": [
    {
     "name": "stdout",
     "output_type": "stream",
     "text": [
      "5\n"
     ]
    },
    {
     "data": {
      "text/plain": [
       "<matplotlib.image.AxesImage at 0x7f555aee5198>"
      ]
     },
     "execution_count": 159,
     "metadata": {},
     "output_type": "execute_result"
    },
    {
     "data": {
      "image/png": "[encoded data removed]",
      "text/plain": [
       "<Figure size 432x288 with 1 Axes>"
      ]
     },
     "metadata": {
      "needs_background": "light"
     },
     "output_type": "display_data"
    }
   ],
   "source": [
    "from scipy.ndimage.filters import gaussian_filter\n",
    "\n",
    "image = np.copy(train_x[0,:,:].reshape(1,28,28))\n",
    "\n",
    "target = np.zeros((1,10))\n",
    "target[:,5] = 1\n",
    "\n",
    "output = hybrid_model.output[:,0]\n",
    "\n",
    "# loss and gradients\n",
    "loss = -K.sum(target * K.log(output) + (1 - target) * K.log(1 - output))\n",
    "grads = K.gradients(loss, hybrid_model.inputs)\n",
    "grads /= (K.sqrt(K.mean(K.square(grads))) + 1e-8)\n",
    "\n",
    "iterate = K.function(hybrid_model.inputs, [loss, grads])\n",
    "\n",
    "for i in range(20):\n",
    "    loss_val, grads_val = iterate([image])\n",
    "    image -= grads_val.reshape(1,28,28)\n",
    "    image = gaussian_filter(image, 0.5)\n",
    "    \n",
    "fstrength = K.function(hybrid_model.inputs, [hybrid_model.layers[6].output])\n",
    "print(np.argmax(hybrid_model.predict(image)))\n",
    "\n",
    "plt.imshow(image.reshape(28,28), cmap=\"Greys\")"
   ]
  },
  {
   "cell_type": "code",
   "execution_count": null,
   "metadata": {},
   "outputs": [],
   "source": []
  },
  {
   "cell_type": "code",
   "execution_count": null,
   "metadata": {},
   "outputs": [],
   "source": []
  },
  {
   "cell_type": "code",
   "execution_count": null,
   "metadata": {},
   "outputs": [],
   "source": []
  }
 ],
 "metadata": {
  "kernelspec": {
   "display_name": "keras",
   "language": "python",
   "name": "keras"
  },
  "language_info": {
   "codemirror_mode": {
    "name": "ipython",
    "version": 3
   },
   "file_extension": ".py",
   "mimetype": "text/x-python",
   "name": "python",
   "nbconvert_exporter": "python",
   "pygments_lexer": "ipython3",
   "version": "3.7.2"
  }
 },
 "nbformat": 4,
 "nbformat_minor": 2
}
