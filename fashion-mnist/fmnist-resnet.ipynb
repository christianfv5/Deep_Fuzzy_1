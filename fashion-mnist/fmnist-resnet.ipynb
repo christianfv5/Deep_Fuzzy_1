{
 "cells": [
  {
   "cell_type": "code",
   "execution_count": 1,
   "metadata": {},
   "outputs": [],
   "source": [
    "import utils\n",
    "(train_x, train_y), (test_x, test_y) = utils.processed_data()"
   ]
  },
  {
   "cell_type": "code",
   "execution_count": 8,
   "metadata": {},
   "outputs": [
    {
     "name": "stdout",
     "output_type": "stream",
     "text": [
      "Train on 60000 samples, validate on 10000 samples\n",
      "Epoch 1/20\n",
      "60000/60000 [==============================] - 5s 91us/step - loss: 2.6383 - categorical_accuracy: 0.1648 - val_loss: 2.1288 - val_categorical_accuracy: 0.2206\n",
      "Epoch 2/20\n",
      "60000/60000 [==============================] - 3s 54us/step - loss: 1.9981 - categorical_accuracy: 0.2979 - val_loss: 1.8939 - val_categorical_accuracy: 0.3448\n",
      "Epoch 3/20\n",
      "60000/60000 [==============================] - 3s 54us/step - loss: 1.7969 - categorical_accuracy: 0.3893 - val_loss: 1.7108 - val_categorical_accuracy: 0.4182\n",
      "Epoch 4/20\n",
      "60000/60000 [==============================] - 3s 54us/step - loss: 1.6395 - categorical_accuracy: 0.4476 - val_loss: 1.5785 - val_categorical_accuracy: 0.4703\n",
      "Epoch 5/20\n",
      "60000/60000 [==============================] - 3s 54us/step - loss: 1.5189 - categorical_accuracy: 0.4937 - val_loss: 1.4676 - val_categorical_accuracy: 0.5070\n",
      "Epoch 6/20\n",
      "60000/60000 [==============================] - 3s 55us/step - loss: 1.4196 - categorical_accuracy: 0.5284 - val_loss: 1.3812 - val_categorical_accuracy: 0.5401\n",
      "Epoch 7/20\n",
      "60000/60000 [==============================] - 3s 54us/step - loss: 1.3377 - categorical_accuracy: 0.5555 - val_loss: 1.3074 - val_categorical_accuracy: 0.5682\n",
      "Epoch 8/20\n",
      "60000/60000 [==============================] - 3s 54us/step - loss: 1.2672 - categorical_accuracy: 0.5810 - val_loss: 1.2425 - val_categorical_accuracy: 0.5903\n",
      "Epoch 9/20\n",
      "60000/60000 [==============================] - 3s 55us/step - loss: 1.2063 - categorical_accuracy: 0.6021 - val_loss: 1.1849 - val_categorical_accuracy: 0.6090\n",
      "Epoch 10/20\n",
      "60000/60000 [==============================] - 3s 54us/step - loss: 1.1513 - categorical_accuracy: 0.6198 - val_loss: 1.1340 - val_categorical_accuracy: 0.6255\n",
      "Epoch 11/20\n",
      "60000/60000 [==============================] - 3s 54us/step - loss: 1.1033 - categorical_accuracy: 0.6355 - val_loss: 1.0890 - val_categorical_accuracy: 0.6389\n",
      "Epoch 12/20\n",
      "60000/60000 [==============================] - 3s 56us/step - loss: 1.0595 - categorical_accuracy: 0.6491 - val_loss: 1.0510 - val_categorical_accuracy: 0.6513\n",
      "Epoch 13/20\n",
      "60000/60000 [==============================] - 3s 56us/step - loss: 1.0200 - categorical_accuracy: 0.6604 - val_loss: 1.0107 - val_categorical_accuracy: 0.6650\n",
      "Epoch 14/20\n",
      "60000/60000 [==============================] - 3s 57us/step - loss: 0.9839 - categorical_accuracy: 0.6715 - val_loss: 0.9742 - val_categorical_accuracy: 0.6724\n",
      "Epoch 15/20\n",
      "60000/60000 [==============================] - 3s 55us/step - loss: 0.9510 - categorical_accuracy: 0.6824 - val_loss: 0.9438 - val_categorical_accuracy: 0.6839\n",
      "Epoch 16/20\n",
      "60000/60000 [==============================] - 3s 54us/step - loss: 0.9206 - categorical_accuracy: 0.6913 - val_loss: 0.9147 - val_categorical_accuracy: 0.6906\n",
      "Epoch 17/20\n",
      "60000/60000 [==============================] - 3s 54us/step - loss: 0.8927 - categorical_accuracy: 0.6999 - val_loss: 0.8877 - val_categorical_accuracy: 0.6985\n",
      "Epoch 18/20\n",
      "60000/60000 [==============================] - 3s 54us/step - loss: 0.8657 - categorical_accuracy: 0.7088 - val_loss: 0.8608 - val_categorical_accuracy: 0.7100\n",
      "Epoch 19/20\n",
      "60000/60000 [==============================] - 3s 56us/step - loss: 0.8415 - categorical_accuracy: 0.7159 - val_loss: 0.8375 - val_categorical_accuracy: 0.7145\n",
      "Epoch 20/20\n",
      "60000/60000 [==============================] - 3s 55us/step - loss: 0.8189 - categorical_accuracy: 0.7214 - val_loss: 0.8163 - val_categorical_accuracy: 0.7217\n"
     ]
    }
   ],
   "source": [
    "import keras\n",
    "import keras.layers as layers\n",
    "import keras.models as models\n",
    "import keras.backend as K\n",
    "\n",
    "\n",
    "def residual_block(x, filters, strides=1, **kwargs):\n",
    "    \"\"\"Constructs a residual convolutional block.\"\"\"\n",
    "    bn1 = layers.BatchNormalization(scale=False)(x)\n",
    "    relu1 = layers.Activation(\"relu\")(bn1)\n",
    "    conv1 = layers.Conv2D(filters[0], 3, strides=strides, padding=\"same\")(relu1)\n",
    "    bn2 = layers.BatchNormalization(scale=False)(conv1)\n",
    "    relu2 = layers.Activation(\"relu\")(bn2)\n",
    "    conv2 = layers.Conv2D(filters[1], 3, padding=\"same\")(relu2)\n",
    "    \n",
    "    if strides != 1:\n",
    "        x = layers.Conv2D(filters[1], 1, strides=strides, padding=\"same\")(x)\n",
    "        \n",
    "    return layers.Add()([conv2, x])\n",
    "\n",
    "\n",
    "def create_resnet():\n",
    "    inputs = layers.Input((28,28))\n",
    "    reshape = layers.Reshape((28,28,1))(inputs)\n",
    "    \n",
    "    # conv layer here?\n",
    "    \n",
    "    res1 = residual_block(reshape, (8, 8))\n",
    "    res2 = residual_block(res1, (8, 8))\n",
    "    res3 = residual_block(res2, (8, 16), strides=2)\n",
    "    res4 = residual_block(res3, (16, 16))\n",
    "    res5 = residual_block(res4, (16, 16))\n",
    "    res6 = residual_block(res5, (16, 32), strides=2)\n",
    "    res7 = residual_block(res6, (32, 32))\n",
    "    \n",
    "    pooling = layers.GlobalMaxPooling2D()(res4)\n",
    "    outputs = layers.Dense(10, activation=\"softmax\")(pooling)\n",
    "    return models.Model(inputs=inputs, outputs=outputs)\n",
    "\n",
    "\n",
    "model = create_resnet()\n",
    "\n",
    "model.compile(\n",
    "    optimizer=keras.optimizers.SGD(lr=1e-3),\n",
    "    loss=\"categorical_crossentropy\",\n",
    "    metrics=[keras.metrics.categorical_accuracy]\n",
    ")\n",
    "\n",
    "history = model.fit(\n",
    "        x=train_x,\n",
    "        y=train_y,\n",
    "        batch_size=256,\n",
    "        epochs=20,\n",
    "        validation_data=(test_x, test_y),\n",
    "        verbose=1,\n",
    "        shuffle=True\n",
    ")"
   ]
  },
  {
   "cell_type": "code",
   "execution_count": null,
   "metadata": {},
   "outputs": [],
   "source": [
    "\n",
    "    "
   ]
  }
 ],
 "metadata": {
  "kernelspec": {
   "display_name": "keras",
   "language": "python",
   "name": "keras"
  },
  "language_info": {
   "codemirror_mode": {
    "name": "ipython",
    "version": 3
   },
   "file_extension": ".py",
   "mimetype": "text/x-python",
   "name": "python",
   "nbconvert_exporter": "python",
   "pygments_lexer": "ipython3",
   "version": "3.7.2"
  }
 },
 "nbformat": 4,
 "nbformat_minor": 2
}
