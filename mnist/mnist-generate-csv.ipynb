{
 "cells": [
  {
   "cell_type": "code",
   "execution_count": 1,
   "metadata": {},
   "outputs": [],
   "source": [
    "import utils\n",
    "import numpy as np\n",
    "import matplotlib.pyplot as plt\n",
    "\n",
    "\n",
    "(train_x, train_y), (test_x, test_y) = utils.processed_data()"
   ]
  },
  {
   "cell_type": "code",
   "execution_count": 2,
   "metadata": {},
   "outputs": [
    {
     "name": "stderr",
     "output_type": "stream",
     "text": [
      "Using TensorFlow backend.\n",
      "WARNING: Logging before flag parsing goes to stderr.\n",
      "W0311 21:06:59.005182 139633746040640 deprecation.py:506] From /home/ryan-desktop/anaconda3/envs/keras/lib/python3.7/site-packages/tensorflow/python/training/moving_averages.py:210: calling Zeros.__init__ (from tensorflow.python.ops.init_ops) with dtype is deprecated and will be removed in a future version.\n",
      "Instructions for updating:\n",
      "Call initializer instance with the dtype argument instead of passing it to the constructor\n"
     ]
    }
   ],
   "source": [
    "import keras\n",
    "from keras.models import Model\n",
    "from model import LogGaussMF\n",
    "\n",
    "model = keras.models.load_model(\n",
    "    \"saved_models/mnist_ResNet20v2_model.114.h5\",\n",
    "    custom_objects={\n",
    "        # the custom layer doesn't implement method get_config\n",
    "        # and doesn't save everything it needs to.\n",
    "        # this fix allows it to load anyways\n",
    "        \"LogGaussMF\": lambda **x: LogGaussMF(rules=10, **x),\n",
    "    })\n",
    "\n",
    "model = Model(inputs=model.inputs, outputs=[model.layers[-2].output])"
   ]
  },
  {
   "cell_type": "code",
   "execution_count": 3,
   "metadata": {},
   "outputs": [],
   "source": [
    "with open(\"csv/train.csv\", \"w\") as outfile:\n",
    "    # print the csv header\n",
    "    outfile.write(\"index,\")\n",
    "    for i in range(10):\n",
    "        outfile.write(\"rule{},\".format(i))\n",
    "    outfile.write(\"prediction,actual\\n\")\n",
    "    \n",
    "    predictions = model.predict(train_x.reshape(-1, 28, 28, 1))\n",
    "    for i, prediction in enumerate(predictions):\n",
    "        outfile.write(\"{},\".format(i))\n",
    "        for j in range(10):\n",
    "            outfile.write(\"{},\".format(prediction[j]))\n",
    "        outfile.write(\"{},\".format(np.argmax(prediction)))\n",
    "        outfile.write(\"{}\".format(np.argmax(train_y[i])))\n",
    "        outfile.write(\"\\n\")"
   ]
  },
  {
   "cell_type": "code",
   "execution_count": 4,
   "metadata": {},
   "outputs": [],
   "source": [
    "with open(\"csv/test.csv\", \"w\") as outfile:\n",
    "    # print the csv header\n",
    "    outfile.write(\"index,\")\n",
    "    for i in range(10):\n",
    "        outfile.write(\"rule{},\".format(i))\n",
    "    outfile.write(\"prediction,actual\\n\")\n",
    "    \n",
    "    predictions = model.predict(test_x.reshape(-1, 28, 28, 1))\n",
    "    for i, prediction in enumerate(predictions):\n",
    "        outfile.write(\"{},\".format(i))\n",
    "        for j in range(10):\n",
    "            outfile.write(\"{},\".format(prediction[j]))\n",
    "        outfile.write(\"{},\".format(np.argmax(prediction)))\n",
    "        outfile.write(\"{}\".format(np.argmax(test_y[i])))\n",
    "        outfile.write(\"\\n\")"
   ]
  }
 ],
 "metadata": {
  "kernelspec": {
   "display_name": "keras",
   "language": "python",
   "name": "keras"
  },
  "language_info": {
   "codemirror_mode": {
    "name": "ipython",
    "version": 3
   },
   "file_extension": ".py",
   "mimetype": "text/x-python",
   "name": "python",
   "nbconvert_exporter": "python",
   "pygments_lexer": "ipython3",
   "version": "3.7.2"
  }
 },
 "nbformat": 4,
 "nbformat_minor": 2
}
