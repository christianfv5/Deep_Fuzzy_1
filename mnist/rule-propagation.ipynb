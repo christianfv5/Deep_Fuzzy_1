{
 "cells": [
  {
   "cell_type": "markdown",
   "metadata": {},
   "source": [
    "Load the MNIST training data and scale it between 0 and 1."
   ]
  },
  {
   "cell_type": "code",
   "execution_count": 1,
   "metadata": {},
   "outputs": [],
   "source": [
    "import utils\n",
    "import numpy as np\n",
    "import matplotlib.pyplot as plt\n",
    "\n",
    "\n",
    "(train_x, train_y), (test_x, test_y) = utils.processed_data()"
   ]
  },
  {
   "cell_type": "markdown",
   "metadata": {},
   "source": [
    "Train a neural network with a single convolutional layer."
   ]
  },
  {
   "cell_type": "code",
   "execution_count": 2,
   "metadata": {
    "scrolled": true
   },
   "outputs": [
    {
     "name": "stderr",
     "output_type": "stream",
     "text": [
      "Using TensorFlow backend.\n"
     ]
    },
    {
     "name": "stdout",
     "output_type": "stream",
     "text": [
      "Loading saved model... "
     ]
    },
    {
     "name": "stderr",
     "output_type": "stream",
     "text": [
      "WARNING: Logging before flag parsing goes to stderr.\n",
      "W0328 12:36:29.753904 140333910497088 deprecation.py:323] From /home/ryan-desktop/anaconda3/envs/keras/lib/python3.7/site-packages/tensorflow/python/ops/math_grad.py:102: div (from tensorflow.python.ops.math_ops) is deprecated and will be removed in a future version.\n",
      "Instructions for updating:\n",
      "Deprecated in favor of operator or tf.math.divide.\n"
     ]
    },
    {
     "name": "stdout",
     "output_type": "stream",
     "text": [
      "done.\n"
     ]
    }
   ],
   "source": [
    "import os\n",
    "import keras\n",
    "import keras.layers as layers\n",
    "import keras.models as models\n",
    "import keras.backend as K\n",
    "from model import LogGaussMF\n",
    "\n",
    "\n",
    "def train_model():\n",
    "    model = keras.Sequential([\n",
    "        layers.Reshape((28,28,1), input_shape=(28,28)),\n",
    "        layers.Conv2D(16, 3, strides=1, activation=\"relu\", padding=\"same\"),\n",
    "        layers.Flatten(),\n",
    "        LogGaussMF(10),\n",
    "        layers.Lambda(lambda x: K.sum(x, axis=-1)),\n",
    "        layers.Lambda(lambda x: K.exp(x - K.max(x, axis=-1, keepdims=True))),\n",
    "        layers.Dense(10),\n",
    "        layers.Activation(\"softmax\")\n",
    "    ])\n",
    "    \n",
    "    model.compile(\n",
    "        optimizer=keras.optimizers.adam(lr=0.0005),\n",
    "        loss=\"binary_crossentropy\",\n",
    "        metrics=[keras.metrics.categorical_accuracy])\n",
    "\n",
    "    # train the model\n",
    "    history = model.fit(\n",
    "        x=train_x,\n",
    "        y=train_y,\n",
    "        batch_size=64,\n",
    "        epochs=20,\n",
    "        validation_data=(test_x, test_y),\n",
    "        verbose=1,\n",
    "        shuffle=True)\n",
    "\n",
    "    return model\n",
    "\n",
    "\n",
    "if not os.path.exists(\"saved_models/\"):\n",
    "    os.makedirs(\"saved_models/\")\n",
    "    \n",
    "if not os.path.exists(\"saved_models/rp_conv1_model.h5\"):\n",
    "    model = train_model()\n",
    "    model.save(\"saved_models/rp_conv1_model.h5\")\n",
    "else:\n",
    "    print(\"Loading saved model...\", end=\" \")\n",
    "    model = keras.models.load_model(\n",
    "    \"saved_models/rp_conv1_model.h5\",\n",
    "    custom_objects={\n",
    "        \"LogGaussMF\": lambda **x: LogGaussMF(rules=10, **x),\n",
    "    })\n",
    "    print(\"done.\")"
   ]
  },
  {
   "cell_type": "markdown",
   "metadata": {},
   "source": [
    "Find the representatives of each class (the training samples that maximize the activation of each logit)."
   ]
  },
  {
   "cell_type": "code",
   "execution_count": 3,
   "metadata": {},
   "outputs": [
    {
     "data": {
      "image/png": "[encoded data removed]",
      "text/plain": [
       "<Figure size 720x72 with 10 Axes>"
      ]
     },
     "metadata": {},
     "output_type": "display_data"
    }
   ],
   "source": [
    "def find_representatives(model):\n",
    "    pred_y = model.predict(train_x)\n",
    "    \n",
    "    repr_idxs = []\n",
    "    for i in range(10):\n",
    "        repr_idxs.append(np.argmax(pred_y[:,i]))\n",
    "    \n",
    "    return train_x[repr_idxs]\n",
    "\n",
    "\n",
    "representatives = find_representatives(model)\n",
    "\n",
    "fig, axes = plt.subplots(1, 10, figsize=(10,1))\n",
    "for i, image in enumerate(representatives):\n",
    "    axes[i].imshow(image)\n",
    "    \n",
    "plt.setp(axes, xticks=[], yticks=[], frame_on=False)\n",
    "plt.tight_layout(h_pad=0, w_pad=0)"
   ]
  },
  {
   "cell_type": "markdown",
   "metadata": {},
   "source": [
    "Write a method to analyze each representative and propagate the fuzzy rules back to the input dimension. Some changes had to be made to the procedure discussed in order to ensure good results were achieved.\n",
    "\n",
    "The new procedure:\n",
    "1. Find the max value of the logits.\n",
    "2. Find the fuzzy rule with the largest contribution to this logit.\n",
    "    * The contribrution is calculated as the weight times the firing strength of the rule.\n",
    "3. Find the membership function with the largest contribution to the fuzzy rule.\n",
    "    * The membership function with the highest value is not a good indicator of contribution. Thousands of memberships shared the same highest value and the MF selected was not usually in an area with relevant data.\n",
    "    * The contribution of each membership function is calculated as the membership value times the input data.\n",
    "    * This ensures the MF with the largest contribution is not on the out edge of the image.\n",
    "4. Use guided backprop from the neuron corresponding with the most relevant MF.\n",
    "\n",
    "This method is only assigns relevance to a 3x3 area in the input dimension. This is because each neuron in the flatten layer is only connected to a 3x3 patch of pixels in the input space. This area would increase with stacked convolutions or larger convolutions. Later in the notebook this procedure is modified to find more relevant pixels."
   ]
  },
  {
   "cell_type": "code",
   "execution_count": 4,
   "metadata": {},
   "outputs": [
    {
     "name": "stdout",
     "output_type": "stream",
     "text": [
      "Max Logit:\n",
      "Value = 8.30, Index = 0\n",
      "\n",
      "Most Important Rule:\n",
      "Value = 4.27, Index = 4\n",
      "\n",
      "Most Important Membership Function:\n",
      "Value = 0.61, Index = 2974\n",
      "\n"
     ]
    },
    {
     "data": {
      "image/png": "[encoded data removed]",
      "text/plain": [
       "<Figure size 432x288 with 1 Axes>"
      ]
     },
     "metadata": {
      "needs_background": "light"
     },
     "output_type": "display_data"
    },
    {
     "data": {
      "image/png": "[encoded data removed]",
      "text/plain": [
       "<Figure size 432x288 with 1 Axes>"
      ]
     },
     "metadata": {
      "needs_background": "light"
     },
     "output_type": "display_data"
    }
   ],
   "source": [
    "import innvestigate\n",
    "from keras.models import Model\n",
    "\n",
    "\n",
    "def analyze_representative(model, representative):\n",
    "    assert(isinstance(model.layers[-6], layers.Flatten))\n",
    "    assert(isinstance(model.layers[-5], LogGaussMF))\n",
    "    assert(isinstance(model.layers[-4], layers.Lambda))\n",
    "    assert(isinstance(model.layers[-3], layers.Lambda))\n",
    "    assert(isinstance(model.layers[-2], layers.Dense))\n",
    "    \n",
    "    # outputs needed for analyzing the network\n",
    "    features_tensor = model.layers[-6].output\n",
    "    memberships_tensor = model.layers[-5].output\n",
    "    firing_strength_tensor = model.layers[-3].output\n",
    "    logits_tensor = model.layers[-2].output\n",
    "    \n",
    "    # new model with the outputs from above\n",
    "    analysis_model = Model(model.inputs, [\n",
    "        features_tensor,\n",
    "        memberships_tensor,\n",
    "        firing_strength_tensor,\n",
    "        logits_tensor,\n",
    "    ])\n",
    "    \n",
    "    # compute the values of those tensors on the representative\n",
    "    features, memberships, firing_strength, logits = analysis_model.predict(\n",
    "        representative.reshape(1, 28, 28))\n",
    "    \n",
    "    # find and output the max logit\n",
    "    logit_val, logit_idx = np.max(logits), np.argmax(logits)\n",
    "    print(\"Max Logit:\")\n",
    "    print(\"Value = {:.2f}, Index = {}\\n\".format(logit_val, logit_idx))\n",
    "    \n",
    "    # find the rule that contributed most to the logit\n",
    "    # this is computed as firing strength multiplied by the weights\n",
    "    W = analysis_model.layers[-1].get_weights()[0]\n",
    "    R = W[:,logit_idx] * firing_strength\n",
    "    rule_val, rule_idx = np.max(R), np.argmax(R)\n",
    "    print(\"Most Important Rule:\")\n",
    "    print(\"Value = {:.2f}, Index = {}\\n\".format(rule_val, rule_idx))\n",
    "    \n",
    "    # most relevant membership functions\n",
    "    R = np.exp(memberships[:,rule_idx,:]) * features\n",
    "    membership_val = np.max(R)\n",
    "    membership_idx = np.argmax(R)\n",
    "    print(\"Most Important Membership Function:\")\n",
    "    print(\"Value = {:.2f}, Index = {}\\n\".format(membership_val, membership_idx))\n",
    "    \n",
    "    model_wo_softmax = Model(model.inputs, [model.layers[-6].output])\n",
    "    analyzer = innvestigate.create_analyzer(\n",
    "        \"guided_backprop\", \n",
    "        model_wo_softmax,\n",
    "        neuron_selection_mode=\"index\",\n",
    "        allow_lambda_layers=True)\n",
    "    \n",
    "    analysis = analyzer.analyze(\n",
    "        representative.reshape(1, 28, 28),\n",
    "        membership_idx).squeeze()\n",
    "    \n",
    "    cutoff = np.percentile(analysis.flatten(), 95)\n",
    "    analysis *= (analysis >= cutoff)\n",
    "    \n",
    "    plt.imshow(analysis)\n",
    "    plt.title(\"Important Pixels\")\n",
    "    \n",
    "    plt.figure()\n",
    "    plt.imshow(representative)\n",
    "    plt.title(\"Input Image\")\n",
    "    \n",
    "\n",
    "analyze_representative(model, representatives[0])"
   ]
  },
  {
   "cell_type": "code",
   "execution_count": 5,
   "metadata": {},
   "outputs": [
    {
     "name": "stdout",
     "output_type": "stream",
     "text": [
      "Max Logit:\n",
      "Value = 6.06, Index = 1\n",
      "\n",
      "Most Important Rule:\n",
      "Value = 3.87, Index = 2\n",
      "\n",
      "Most Important Membership Function:\n",
      "Value = 0.56, Index = 10529\n",
      "\n"
     ]
    },
    {
     "data": {
      "image/png": "[encoded data removed]",
      "text/plain": [
       "<Figure size 432x288 with 1 Axes>"
      ]
     },
     "metadata": {
      "needs_background": "light"
     },
     "output_type": "display_data"
    },
    {
     "data": {
      "image/png": "[encoded data removed]",
      "text/plain": [
       "<Figure size 432x288 with 1 Axes>"
      ]
     },
     "metadata": {
      "needs_background": "light"
     },
     "output_type": "display_data"
    }
   ],
   "source": [
    "analyze_representative(model, representatives[1])"
   ]
  },
  {
   "cell_type": "code",
   "execution_count": 6,
   "metadata": {},
   "outputs": [
    {
     "name": "stdout",
     "output_type": "stream",
     "text": [
      "Max Logit:\n",
      "Value = 8.41, Index = 2\n",
      "\n",
      "Most Important Rule:\n",
      "Value = 3.29, Index = 5\n",
      "\n",
      "Most Important Membership Function:\n",
      "Value = 0.65, Index = 9249\n",
      "\n"
     ]
    },
    {
     "data": {
      "image/png": "[encoded data removed]",
      "text/plain": [
       "<Figure size 432x288 with 1 Axes>"
      ]
     },
     "metadata": {
      "needs_background": "light"
     },
     "output_type": "display_data"
    },
    {
     "data": {
      "image/png": "[encoded data removed]",
      "text/plain": [
       "<Figure size 432x288 with 1 Axes>"
      ]
     },
     "metadata": {
      "needs_background": "light"
     },
     "output_type": "display_data"
    }
   ],
   "source": [
    "analyze_representative(model, representatives[2])"
   ]
  },
  {
   "cell_type": "code",
   "execution_count": 7,
   "metadata": {},
   "outputs": [
    {
     "name": "stdout",
     "output_type": "stream",
     "text": [
      "Max Logit:\n",
      "Value = 9.42, Index = 3\n",
      "\n",
      "Most Important Rule:\n",
      "Value = 2.63, Index = 7\n",
      "\n",
      "Most Important Membership Function:\n",
      "Value = 0.60, Index = 6945\n",
      "\n"
     ]
    },
    {
     "data": {
      "image/png": "[encoded data removed]",
      "text/plain": [
       "<Figure size 432x288 with 1 Axes>"
      ]
     },
     "metadata": {
      "needs_background": "light"
     },
     "output_type": "display_data"
    },
    {
     "data": {
      "image/png": "[encoded data removed]",
      "text/plain": [
       "<Figure size 432x288 with 1 Axes>"
      ]
     },
     "metadata": {
      "needs_background": "light"
     },
     "output_type": "display_data"
    }
   ],
   "source": [
    "analyze_representative(model, representatives[3])"
   ]
  },
  {
   "cell_type": "code",
   "execution_count": 8,
   "metadata": {},
   "outputs": [
    {
     "name": "stdout",
     "output_type": "stream",
     "text": [
      "Max Logit:\n",
      "Value = 7.03, Index = 4\n",
      "\n",
      "Most Important Rule:\n",
      "Value = 4.55, Index = 3\n",
      "\n",
      "Most Important Membership Function:\n",
      "Value = 0.64, Index = 7441\n",
      "\n"
     ]
    },
    {
     "data": {
      "image/png": "[encoded data removed]",
      "text/plain": [
       "<Figure size 432x288 with 1 Axes>"
      ]
     },
     "metadata": {
      "needs_background": "light"
     },
     "output_type": "display_data"
    },
    {
     "data": {
      "image/png": "[encoded data removed]",
      "text/plain": [
       "<Figure size 432x288 with 1 Axes>"
      ]
     },
     "metadata": {
      "needs_background": "light"
     },
     "output_type": "display_data"
    }
   ],
   "source": [
    "analyze_representative(model, representatives[4])"
   ]
  },
  {
   "cell_type": "code",
   "execution_count": 9,
   "metadata": {},
   "outputs": [
    {
     "name": "stdout",
     "output_type": "stream",
     "text": [
      "Max Logit:\n",
      "Value = 7.74, Index = 5\n",
      "\n",
      "Most Important Rule:\n",
      "Value = 3.36, Index = 0\n",
      "\n",
      "Most Important Membership Function:\n",
      "Value = 0.63, Index = 4273\n",
      "\n"
     ]
    },
    {
     "data": {
      "image/png": "[encoded data removed]",
      "text/plain": [
       "<Figure size 432x288 with 1 Axes>"
      ]
     },
     "metadata": {
      "needs_background": "light"
     },
     "output_type": "display_data"
    },
    {
     "data": {
      "image/png": "[encoded data removed]",
      "text/plain": [
       "<Figure size 432x288 with 1 Axes>"
      ]
     },
     "metadata": {
      "needs_background": "light"
     },
     "output_type": "display_data"
    }
   ],
   "source": [
    "analyze_representative(model, representatives[5])"
   ]
  },
  {
   "cell_type": "code",
   "execution_count": 10,
   "metadata": {},
   "outputs": [
    {
     "name": "stdout",
     "output_type": "stream",
     "text": [
      "Max Logit:\n",
      "Value = 8.32, Index = 6\n",
      "\n",
      "Most Important Rule:\n",
      "Value = 3.04, Index = 1\n",
      "\n",
      "Most Important Membership Function:\n",
      "Value = 0.63, Index = 10081\n",
      "\n"
     ]
    },
    {
     "data": {
      "image/png": "[encoded data removed]",
      "text/plain": [
       "<Figure size 432x288 with 1 Axes>"
      ]
     },
     "metadata": {
      "needs_background": "light"
     },
     "output_type": "display_data"
    },
    {
     "data": {
      "image/png": "[encoded data removed]",
      "text/plain": [
       "<Figure size 432x288 with 1 Axes>"
      ]
     },
     "metadata": {
      "needs_background": "light"
     },
     "output_type": "display_data"
    }
   ],
   "source": [
    "analyze_representative(model, representatives[6])"
   ]
  },
  {
   "cell_type": "code",
   "execution_count": 11,
   "metadata": {},
   "outputs": [
    {
     "name": "stdout",
     "output_type": "stream",
     "text": [
      "Max Logit:\n",
      "Value = 8.80, Index = 7\n",
      "\n",
      "Most Important Rule:\n",
      "Value = 2.71, Index = 4\n",
      "\n",
      "Most Important Membership Function:\n",
      "Value = 0.63, Index = 5969\n",
      "\n"
     ]
    },
    {
     "data": {
      "image/png": "[encoded data removed]",
      "text/plain": [
       "<Figure size 432x288 with 1 Axes>"
      ]
     },
     "metadata": {
      "needs_background": "light"
     },
     "output_type": "display_data"
    },
    {
     "data": {
      "image/png": "[encoded data removed]",
      "text/plain": [
       "<Figure size 432x288 with 1 Axes>"
      ]
     },
     "metadata": {
      "needs_background": "light"
     },
     "output_type": "display_data"
    }
   ],
   "source": [
    "analyze_representative(model, representatives[7])"
   ]
  },
  {
   "cell_type": "code",
   "execution_count": 12,
   "metadata": {},
   "outputs": [
    {
     "name": "stdout",
     "output_type": "stream",
     "text": [
      "Max Logit:\n",
      "Value = 8.08, Index = 8\n",
      "\n",
      "Most Important Rule:\n",
      "Value = 3.27, Index = 1\n",
      "\n",
      "Most Important Membership Function:\n",
      "Value = 0.68, Index = 6111\n",
      "\n"
     ]
    },
    {
     "data": {
      "image/png": "[encoded data removed]",
      "text/plain": [
       "<Figure size 432x288 with 1 Axes>"
      ]
     },
     "metadata": {
      "needs_background": "light"
     },
     "output_type": "display_data"
    },
    {
     "data": {
      "image/png": "[encoded data removed]",
      "text/plain": [
       "<Figure size 432x288 with 1 Axes>"
      ]
     },
     "metadata": {
      "needs_background": "light"
     },
     "output_type": "display_data"
    }
   ],
   "source": [
    "analyze_representative(model, representatives[8])"
   ]
  },
  {
   "cell_type": "code",
   "execution_count": 13,
   "metadata": {},
   "outputs": [
    {
     "name": "stdout",
     "output_type": "stream",
     "text": [
      "Max Logit:\n",
      "Value = 7.12, Index = 9\n",
      "\n",
      "Most Important Rule:\n",
      "Value = 2.90, Index = 2\n",
      "\n",
      "Most Important Membership Function:\n",
      "Value = 0.65, Index = 3415\n",
      "\n"
     ]
    },
    {
     "data": {
      "image/png": "[encoded data removed]",
      "text/plain": [
       "<Figure size 432x288 with 1 Axes>"
      ]
     },
     "metadata": {
      "needs_background": "light"
     },
     "output_type": "display_data"
    },
    {
     "data": {
      "image/png": "[encoded data removed]",
      "text/plain": [
       "<Figure size 432x288 with 1 Axes>"
      ]
     },
     "metadata": {
      "needs_background": "light"
     },
     "output_type": "display_data"
    }
   ],
   "source": [
    "analyze_representative(model, representatives[9])"
   ]
  },
  {
   "cell_type": "markdown",
   "metadata": {},
   "source": [
    "This function implements a modifed procedure that allows for relevance values to be propagated back over more of the image. Rather than selecting the membership function with the largest contribution, the top k membership functions are propagated back to the input space, giving a more complete picture of the relevant pixels. For the exmaples below, k is set to 10."
   ]
  },
  {
   "cell_type": "code",
   "execution_count": 14,
   "metadata": {},
   "outputs": [
    {
     "name": "stdout",
     "output_type": "stream",
     "text": [
      "Max Logit:\n",
      "Value = 8.30, Index = 0\n",
      "\n",
      "Most Important Rule:\n",
      "Value = 4.27, Index = 4\n",
      "\n",
      "Most Important Membership Functions:\n",
      "Value = 0.61, Index = 2974\n",
      "Value = 0.61, Index = 2526\n",
      "Value = 0.57, Index = 10529\n",
      "Value = 0.56, Index = 3902\n",
      "Value = 0.56, Index = 3438\n",
      "Value = 0.56, Index = 5278\n",
      "Value = 0.56, Index = 1580\n",
      "Value = 0.56, Index = 3895\n",
      "Value = 0.56, Index = 1596\n",
      "Value = 0.55, Index = 10497\n",
      "\n"
     ]
    },
    {
     "data": {
      "image/png": "[encoded data removed]",
      "text/plain": [
       "<Figure size 432x288 with 1 Axes>"
      ]
     },
     "metadata": {
      "needs_background": "light"
     },
     "output_type": "display_data"
    },
    {
     "data": {
      "image/png": "[encoded data removed]",
      "text/plain": [
       "<Figure size 432x288 with 1 Axes>"
      ]
     },
     "metadata": {
      "needs_background": "light"
     },
     "output_type": "display_data"
    }
   ],
   "source": [
    "def analyze_representative_v2(model, representative, top_k=10):\n",
    "    assert(isinstance(model.layers[-6], layers.Flatten))\n",
    "    assert(isinstance(model.layers[-5], LogGaussMF))\n",
    "    assert(isinstance(model.layers[-4], layers.Lambda))\n",
    "    assert(isinstance(model.layers[-3], layers.Lambda))\n",
    "    assert(isinstance(model.layers[-2], layers.Dense))\n",
    "    \n",
    "    # outputs needed for analyzing the network\n",
    "    features_tensor = model.layers[-6].output\n",
    "    memberships_tensor = model.layers[-5].output\n",
    "    firing_strength_tensor = model.layers[-3].output\n",
    "    logits_tensor = model.layers[-2].output\n",
    "    \n",
    "    # new model with the outputs from above\n",
    "    analysis_model = Model(model.inputs, [\n",
    "        features_tensor,\n",
    "        memberships_tensor,\n",
    "        firing_strength_tensor,\n",
    "        logits_tensor,\n",
    "    ])\n",
    "    \n",
    "    # compute the values of those tensors on the representative\n",
    "    features, memberships, firing_strength, logits = analysis_model.predict(\n",
    "        representative.reshape(1, 28, 28))\n",
    "    \n",
    "    # find and output the max logit\n",
    "    logit_val, logit_idx = np.max(logits), np.argmax(logits)\n",
    "    print(\"Max Logit:\")\n",
    "    print(\"Value = {:.2f}, Index = {}\\n\".format(logit_val, logit_idx))\n",
    "    \n",
    "    # find the rule that contributed most to the logit\n",
    "    # this is computed as firing strength multiplied by the weights\n",
    "    W = analysis_model.layers[-1].get_weights()[0]\n",
    "    R = W[:,logit_idx] * firing_strength\n",
    "    rule_val, rule_idx = np.max(R), np.argmax(R)\n",
    "    print(\"Most Important Rule:\")\n",
    "    print(\"Value = {:.2f}, Index = {}\\n\".format(rule_val, rule_idx))\n",
    "    \n",
    "    # the maximum membership value does not appear to be a good indicator of the\n",
    "    # most important membership function. a large number of rules seem to share\n",
    "    # the maximum possible value of the membership function, 1.\n",
    "    mu, beta = analysis_model.layers[-4].get_weights()\n",
    "    R = np.exp(memberships[:,rule_idx,:]) * features\n",
    "    print(\"Most Important Membership Functions:\")\n",
    "    \n",
    "    analysis = np.zeros((28, 28), np.float32)\n",
    "    \n",
    "    for i in range(top_k):\n",
    "        membership_val = np.max(R)\n",
    "        membership_idx = np.argmax(R)\n",
    "        print(\"Value = {:.2f}, Index = {}\".format(membership_val, membership_idx))\n",
    "        \n",
    "        # zero the relevance value so that a new neuron is selected next time.\n",
    "        R[0, membership_idx] = 0\n",
    "\n",
    "        model_wo_softmax = Model(model.inputs, [model.layers[-6].output])\n",
    "        analyzer = innvestigate.create_analyzer(\n",
    "            \"guided_backprop\", \n",
    "            model_wo_softmax,\n",
    "            neuron_selection_mode=\"index\",\n",
    "            allow_lambda_layers=True)\n",
    "\n",
    "        a = analyzer.analyze(\n",
    "            representative.reshape(1, 28, 28),\n",
    "            membership_idx).squeeze()\n",
    "        \n",
    "        analysis = np.maximum(analysis, a)\n",
    "    \n",
    "        cutoff = np.percentile(analysis.flatten(), 95)\n",
    "        analysis *= (analysis >= cutoff)\n",
    "        \n",
    "    # newline\n",
    "    print()\n",
    "    \n",
    "    plt.imshow(analysis)\n",
    "    plt.title(\"Important Pixels\")\n",
    "    \n",
    "    plt.figure()\n",
    "    plt.imshow(representative)\n",
    "    plt.title(\"Input Image\")\n",
    "    \n",
    "\n",
    "analyze_representative_v2(model, representatives[0])"
   ]
  },
  {
   "cell_type": "code",
   "execution_count": 15,
   "metadata": {},
   "outputs": [
    {
     "name": "stdout",
     "output_type": "stream",
     "text": [
      "Max Logit:\n",
      "Value = 6.06, Index = 1\n",
      "\n",
      "Most Important Rule:\n",
      "Value = 3.87, Index = 2\n",
      "\n",
      "Most Important Membership Functions:\n",
      "Value = 0.56, Index = 10529\n",
      "Value = 0.55, Index = 6069\n",
      "Value = 0.54, Index = 5621\n",
      "Value = 0.54, Index = 6517\n",
      "Value = 0.54, Index = 3397\n",
      "Value = 0.53, Index = 2949\n",
      "Value = 0.51, Index = 9669\n",
      "Value = 0.51, Index = 6921\n",
      "Value = 0.50, Index = 5173\n",
      "Value = 0.50, Index = 9221\n",
      "\n"
     ]
    },
    {
     "data": {
      "image/png": "[encoded data removed]",
      "text/plain": [
       "<Figure size 432x288 with 1 Axes>"
      ]
     },
     "metadata": {
      "needs_background": "light"
     },
     "output_type": "display_data"
    },
    {
     "data": {
      "image/png": "[encoded data removed]",
      "text/plain": [
       "<Figure size 432x288 with 1 Axes>"
      ]
     },
     "metadata": {
      "needs_background": "light"
     },
     "output_type": "display_data"
    }
   ],
   "source": [
    "analyze_representative_v2(model, representatives[1])"
   ]
  },
  {
   "cell_type": "code",
   "execution_count": 16,
   "metadata": {},
   "outputs": [
    {
     "name": "stdout",
     "output_type": "stream",
     "text": [
      "Max Logit:\n",
      "Value = 8.41, Index = 2\n",
      "\n",
      "Most Important Rule:\n",
      "Value = 3.29, Index = 5\n",
      "\n",
      "Most Important Membership Functions:\n",
      "Value = 0.65, Index = 9249\n",
      "Value = 0.63, Index = 7007\n",
      "Value = 0.62, Index = 9281\n",
      "Value = 0.61, Index = 9265\n",
      "Value = 0.59, Index = 9297\n",
      "Value = 0.57, Index = 2001\n",
      "Value = 0.56, Index = 2071\n",
      "Value = 0.56, Index = 9473\n",
      "Value = 0.56, Index = 7292\n",
      "Value = 0.56, Index = 8159\n",
      "\n"
     ]
    },
    {
     "data": {
      "image/png": "[encoded data removed]",
      "text/plain": [
       "<Figure size 432x288 with 1 Axes>"
      ]
     },
     "metadata": {
      "needs_background": "light"
     },
     "output_type": "display_data"
    },
    {
     "data": {
      "image/png": "[encoded data removed]",
      "text/plain": [
       "<Figure size 432x288 with 1 Axes>"
      ]
     },
     "metadata": {
      "needs_background": "light"
     },
     "output_type": "display_data"
    }
   ],
   "source": [
    "analyze_representative_v2(model, representatives[2])"
   ]
  },
  {
   "cell_type": "code",
   "execution_count": 17,
   "metadata": {},
   "outputs": [
    {
     "name": "stdout",
     "output_type": "stream",
     "text": [
      "Max Logit:\n",
      "Value = 9.42, Index = 3\n",
      "\n",
      "Most Important Rule:\n",
      "Value = 2.63, Index = 7\n",
      "\n",
      "Most Important Membership Functions:\n",
      "Value = 0.60, Index = 6945\n",
      "Value = 0.59, Index = 1980\n",
      "Value = 0.59, Index = 1996\n",
      "Value = 0.59, Index = 3249\n",
      "Value = 0.59, Index = 1964\n",
      "Value = 0.58, Index = 6929\n",
      "Value = 0.57, Index = 10385\n",
      "Value = 0.57, Index = 6961\n",
      "Value = 0.57, Index = 10433\n",
      "Value = 0.56, Index = 2849\n",
      "\n"
     ]
    },
    {
     "data": {
      "image/png": "[encoded data removed]",
      "text/plain": [
       "<Figure size 432x288 with 1 Axes>"
      ]
     },
     "metadata": {
      "needs_background": "light"
     },
     "output_type": "display_data"
    },
    {
     "data": {
      "image/png": "[encoded data removed]",
      "text/plain": [
       "<Figure size 432x288 with 1 Axes>"
      ]
     },
     "metadata": {
      "needs_background": "light"
     },
     "output_type": "display_data"
    }
   ],
   "source": [
    "analyze_representative_v2(model, representatives[3])"
   ]
  },
  {
   "cell_type": "code",
   "execution_count": 18,
   "metadata": {},
   "outputs": [
    {
     "name": "stdout",
     "output_type": "stream",
     "text": [
      "Max Logit:\n",
      "Value = 7.03, Index = 4\n",
      "\n",
      "Most Important Rule:\n",
      "Value = 4.55, Index = 3\n",
      "\n",
      "Most Important Membership Functions:\n",
      "Value = 0.64, Index = 7441\n",
      "Value = 0.61, Index = 7729\n",
      "Value = 0.59, Index = 7745\n",
      "Value = 0.58, Index = 7809\n",
      "Value = 0.57, Index = 8869\n",
      "Value = 0.57, Index = 8421\n",
      "Value = 0.56, Index = 7525\n",
      "Value = 0.56, Index = 7761\n",
      "Value = 0.55, Index = 7973\n",
      "Value = 0.55, Index = 7425\n",
      "\n"
     ]
    },
    {
     "data": {
      "image/png": "[encoded data removed]",
      "text/plain": [
       "<Figure size 432x288 with 1 Axes>"
      ]
     },
     "metadata": {
      "needs_background": "light"
     },
     "output_type": "display_data"
    },
    {
     "data": {
      "image/png": "[encoded data removed]",
      "text/plain": [
       "<Figure size 432x288 with 1 Axes>"
      ]
     },
     "metadata": {
      "needs_background": "light"
     },
     "output_type": "display_data"
    }
   ],
   "source": [
    "analyze_representative_v2(model, representatives[4])"
   ]
  },
  {
   "cell_type": "code",
   "execution_count": 19,
   "metadata": {},
   "outputs": [
    {
     "name": "stdout",
     "output_type": "stream",
     "text": [
      "Max Logit:\n",
      "Value = 7.74, Index = 5\n",
      "\n",
      "Most Important Rule:\n",
      "Value = 3.36, Index = 0\n",
      "\n",
      "Most Important Membership Functions:\n",
      "Value = 0.63, Index = 4273\n",
      "Value = 0.63, Index = 4321\n",
      "Value = 0.62, Index = 4337\n",
      "Value = 0.61, Index = 4257\n",
      "Value = 0.61, Index = 4353\n",
      "Value = 0.61, Index = 4289\n",
      "Value = 0.60, Index = 4305\n",
      "Value = 0.59, Index = 7761\n",
      "Value = 0.59, Index = 6492\n",
      "Value = 0.58, Index = 2476\n",
      "\n"
     ]
    },
    {
     "data": {
      "image/png": "[encoded data removed]",
      "text/plain": [
       "<Figure size 432x288 with 1 Axes>"
      ]
     },
     "metadata": {
      "needs_background": "light"
     },
     "output_type": "display_data"
    },
    {
     "data": {
      "image/png": "[encoded data removed]",
      "text/plain": [
       "<Figure size 432x288 with 1 Axes>"
      ]
     },
     "metadata": {
      "needs_background": "light"
     },
     "output_type": "display_data"
    }
   ],
   "source": [
    "analyze_representative_v2(model, representatives[5])"
   ]
  },
  {
   "cell_type": "code",
   "execution_count": 20,
   "metadata": {},
   "outputs": [
    {
     "name": "stdout",
     "output_type": "stream",
     "text": [
      "Max Logit:\n",
      "Value = 8.32, Index = 6\n",
      "\n",
      "Most Important Rule:\n",
      "Value = 3.04, Index = 1\n",
      "\n",
      "Most Important Membership Functions:\n",
      "Value = 0.63, Index = 10081\n",
      "Value = 0.62, Index = 10065\n",
      "Value = 0.58, Index = 5692\n",
      "Value = 0.57, Index = 10097\n",
      "Value = 0.56, Index = 5676\n",
      "Value = 0.55, Index = 9601\n",
      "Value = 0.55, Index = 9585\n",
      "Value = 0.55, Index = 9617\n",
      "Value = 0.54, Index = 5708\n",
      "Value = 0.54, Index = 10049\n",
      "\n"
     ]
    },
    {
     "data": {
      "image/png": "[encoded data removed]",
      "text/plain": [
       "<Figure size 432x288 with 1 Axes>"
      ]
     },
     "metadata": {
      "needs_background": "light"
     },
     "output_type": "display_data"
    },
    {
     "data": {
      "image/png": "[encoded data removed]",
      "text/plain": [
       "<Figure size 432x288 with 1 Axes>"
      ]
     },
     "metadata": {
      "needs_background": "light"
     },
     "output_type": "display_data"
    }
   ],
   "source": [
    "analyze_representative_v2(model, representatives[6])"
   ]
  },
  {
   "cell_type": "code",
   "execution_count": 21,
   "metadata": {},
   "outputs": [
    {
     "name": "stdout",
     "output_type": "stream",
     "text": [
      "Max Logit:\n",
      "Value = 8.80, Index = 7\n",
      "\n",
      "Most Important Rule:\n",
      "Value = 2.71, Index = 4\n",
      "\n",
      "Most Important Membership Functions:\n",
      "Value = 0.63, Index = 5969\n",
      "Value = 0.61, Index = 5985\n",
      "Value = 0.60, Index = 5473\n",
      "Value = 0.58, Index = 6017\n",
      "Value = 0.57, Index = 5953\n",
      "Value = 0.57, Index = 4620\n",
      "Value = 0.55, Index = 6001\n",
      "Value = 0.55, Index = 4684\n",
      "Value = 0.55, Index = 6033\n",
      "Value = 0.54, Index = 11441\n",
      "\n"
     ]
    },
    {
     "data": {
      "image/png": "[encoded data removed]",
      "text/plain": [
       "<Figure size 432x288 with 1 Axes>"
      ]
     },
     "metadata": {
      "needs_background": "light"
     },
     "output_type": "display_data"
    },
    {
     "data": {
      "image/png": "[encoded data removed]",
      "text/plain": [
       "<Figure size 432x288 with 1 Axes>"
      ]
     },
     "metadata": {
      "needs_background": "light"
     },
     "output_type": "display_data"
    }
   ],
   "source": [
    "analyze_representative_v2(model, representatives[7])"
   ]
  },
  {
   "cell_type": "code",
   "execution_count": 22,
   "metadata": {},
   "outputs": [
    {
     "name": "stdout",
     "output_type": "stream",
     "text": [
      "Max Logit:\n",
      "Value = 8.08, Index = 8\n",
      "\n",
      "Most Important Rule:\n",
      "Value = 3.27, Index = 1\n",
      "\n",
      "Most Important Membership Functions:\n",
      "Value = 0.68, Index = 6111\n",
      "Value = 0.64, Index = 9215\n",
      "Value = 0.64, Index = 6543\n",
      "Value = 0.62, Index = 7375\n",
      "Value = 0.62, Index = 7807\n",
      "Value = 0.62, Index = 8239\n",
      "Value = 0.62, Index = 9103\n",
      "Value = 0.61, Index = 7870\n",
      "Value = 0.61, Index = 6014\n",
      "Value = 0.61, Index = 5550\n",
      "\n"
     ]
    },
    {
     "data": {
      "image/png": "[encoded data removed]",
      "text/plain": [
       "<Figure size 432x288 with 1 Axes>"
      ]
     },
     "metadata": {
      "needs_background": "light"
     },
     "output_type": "display_data"
    },
    {
     "data": {
      "image/png": "[encoded data removed]",
      "text/plain": [
       "<Figure size 432x288 with 1 Axes>"
      ]
     },
     "metadata": {
      "needs_background": "light"
     },
     "output_type": "display_data"
    }
   ],
   "source": [
    "analyze_representative_v2(model, representatives[8])"
   ]
  },
  {
   "cell_type": "code",
   "execution_count": 23,
   "metadata": {},
   "outputs": [
    {
     "name": "stdout",
     "output_type": "stream",
     "text": [
      "Max Logit:\n",
      "Value = 7.12, Index = 9\n",
      "\n",
      "Most Important Rule:\n",
      "Value = 2.90, Index = 2\n",
      "\n",
      "Most Important Membership Functions:\n",
      "Value = 0.65, Index = 3415\n",
      "Value = 0.61, Index = 3359\n",
      "Value = 0.60, Index = 5535\n",
      "Value = 0.58, Index = 7377\n",
      "Value = 0.58, Index = 4207\n",
      "Value = 0.58, Index = 7329\n",
      "Value = 0.58, Index = 3791\n",
      "Value = 0.58, Index = 3857\n",
      "Value = 0.57, Index = 3841\n",
      "Value = 0.56, Index = 2956\n",
      "\n"
     ]
    },
    {
     "data": {
      "image/png": "[encoded data removed]",
      "text/plain": [
       "<Figure size 432x288 with 1 Axes>"
      ]
     },
     "metadata": {
      "needs_background": "light"
     },
     "output_type": "display_data"
    },
    {
     "data": {
      "image/png": "[encoded data removed]",
      "text/plain": [
       "<Figure size 432x288 with 1 Axes>"
      ]
     },
     "metadata": {
      "needs_background": "light"
     },
     "output_type": "display_data"
    }
   ],
   "source": [
    "analyze_representative_v2(model, representatives[9])"
   ]
  }
 ],
 "metadata": {
  "kernelspec": {
   "display_name": "keras",
   "language": "python",
   "name": "keras"
  },
  "language_info": {
   "codemirror_mode": {
    "name": "ipython",
    "version": 3
   },
   "file_extension": ".py",
   "mimetype": "text/x-python",
   "name": "python",
   "nbconvert_exporter": "python",
   "pygments_lexer": "ipython3",
   "version": "3.7.2"
  }
 },
 "nbformat": 4,
 "nbformat_minor": 2
}
