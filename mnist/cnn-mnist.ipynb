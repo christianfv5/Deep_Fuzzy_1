{
 "cells": [
  {
   "cell_type": "code",
   "execution_count": 1,
   "metadata": {},
   "outputs": [],
   "source": [
    "import gzip\n",
    "import numpy as np\n",
    "import matplotlib.pyplot as plt\n",
    "\n",
    "def load_data(filename, dims):\n",
    "    with gzip.open(filename, \"rb\") as infile:\n",
    "        # consume magic number\n",
    "        infile.read(4)\n",
    "        # consume dimensions data\n",
    "        infile.read(4 * len(dims))\n",
    "\n",
    "        return np.frombuffer(infile.read(np.prod(dims)), dtype=np.uint8).reshape(dims)\n",
    "\n",
    "# training data\n",
    "train_images = load_data(\"data/train-images-idx3-ubyte.gz\", [60000, 28, 28])\n",
    "train_labels = load_data(\"data/train-labels-idx1-ubyte.gz\", [60000])\n",
    "\n",
    "# testing data\n",
    "test_images = load_data(\"data/t10k-images-idx3-ubyte.gz\", [10000, 28, 28])\n",
    "test_labels = load_data(\"data/t10k-labels-idx1-ubyte.gz\", [10000])"
   ]
  },
  {
   "cell_type": "code",
   "execution_count": 2,
   "metadata": {},
   "outputs": [],
   "source": [
    "train_x = train_images.astype(np.float) / 255\n",
    "train_y = np.zeros((60000, 10))\n",
    "train_y[np.arange(60000),train_labels] = 1\n",
    "\n",
    "test_x = test_images.astype(np.float) / 255\n",
    "test_y = np.zeros((10000, 10))\n",
    "test_y[np.arange(10000),test_labels] = 1"
   ]
  },
  {
   "cell_type": "code",
   "execution_count": 3,
   "metadata": {
    "scrolled": true
   },
   "outputs": [
    {
     "name": "stderr",
     "output_type": "stream",
     "text": [
      "Using TensorFlow backend.\n"
     ]
    },
    {
     "name": "stdout",
     "output_type": "stream",
     "text": [
      "Train on 60000 samples, validate on 10000 samples\n",
      "Epoch 1/25\n",
      "60000/60000 [==============================] - 4s 69us/step - loss: 0.0684 - categorical_accuracy: 0.9098 - val_loss: 0.0313 - val_categorical_accuracy: 0.9640\n",
      "Epoch 2/25\n",
      "60000/60000 [==============================] - 3s 49us/step - loss: 0.0272 - categorical_accuracy: 0.9686 - val_loss: 0.0210 - val_categorical_accuracy: 0.9762\n",
      "Epoch 3/25\n",
      "60000/60000 [==============================] - 3s 47us/step - loss: 0.0201 - categorical_accuracy: 0.9770 - val_loss: 0.0183 - val_categorical_accuracy: 0.9790\n",
      "Epoch 4/25\n",
      "60000/60000 [==============================] - 3s 46us/step - loss: 0.0169 - categorical_accuracy: 0.9810 - val_loss: 0.0167 - val_categorical_accuracy: 0.9798\n",
      "Epoch 5/25\n",
      "60000/60000 [==============================] - 3s 46us/step - loss: 0.0147 - categorical_accuracy: 0.9838 - val_loss: 0.0153 - val_categorical_accuracy: 0.9818\n",
      "Epoch 6/25\n",
      "60000/60000 [==============================] - 3s 46us/step - loss: 0.0131 - categorical_accuracy: 0.9856 - val_loss: 0.0137 - val_categorical_accuracy: 0.9837\n",
      "Epoch 7/25\n",
      "60000/60000 [==============================] - 3s 46us/step - loss: 0.0120 - categorical_accuracy: 0.9873 - val_loss: 0.0147 - val_categorical_accuracy: 0.9842\n",
      "Epoch 8/25\n",
      "60000/60000 [==============================] - 3s 46us/step - loss: 0.0112 - categorical_accuracy: 0.9883 - val_loss: 0.0144 - val_categorical_accuracy: 0.9843\n",
      "Epoch 9/25\n",
      "60000/60000 [==============================] - 3s 45us/step - loss: 0.0104 - categorical_accuracy: 0.9892 - val_loss: 0.0135 - val_categorical_accuracy: 0.9858\n",
      "Epoch 10/25\n",
      "60000/60000 [==============================] - 3s 45us/step - loss: 0.0095 - categorical_accuracy: 0.9906 - val_loss: 0.0144 - val_categorical_accuracy: 0.9846\n",
      "Epoch 11/25\n",
      "60000/60000 [==============================] - 3s 46us/step - loss: 0.0090 - categorical_accuracy: 0.9911 - val_loss: 0.0137 - val_categorical_accuracy: 0.9846\n",
      "Epoch 12/25\n",
      "60000/60000 [==============================] - 3s 46us/step - loss: 0.0083 - categorical_accuracy: 0.9921 - val_loss: 0.0140 - val_categorical_accuracy: 0.9858\n",
      "Epoch 13/25\n",
      "60000/60000 [==============================] - 3s 45us/step - loss: 0.0078 - categorical_accuracy: 0.9929 - val_loss: 0.0147 - val_categorical_accuracy: 0.9857\n",
      "Epoch 14/25\n",
      "60000/60000 [==============================] - 3s 46us/step - loss: 0.0074 - categorical_accuracy: 0.9931 - val_loss: 0.0134 - val_categorical_accuracy: 0.9863\n",
      "Epoch 15/25\n",
      "60000/60000 [==============================] - 3s 45us/step - loss: 0.0068 - categorical_accuracy: 0.9938 - val_loss: 0.0136 - val_categorical_accuracy: 0.9853\n",
      "Epoch 16/25\n",
      "60000/60000 [==============================] - 3s 45us/step - loss: 0.0065 - categorical_accuracy: 0.9944 - val_loss: 0.0154 - val_categorical_accuracy: 0.9836\n",
      "Epoch 17/25\n",
      "60000/60000 [==============================] - 3s 46us/step - loss: 0.0061 - categorical_accuracy: 0.9949 - val_loss: 0.0143 - val_categorical_accuracy: 0.9858\n",
      "Epoch 18/25\n",
      "60000/60000 [==============================] - 3s 46us/step - loss: 0.0057 - categorical_accuracy: 0.9952 - val_loss: 0.0150 - val_categorical_accuracy: 0.9855\n",
      "Epoch 19/25\n",
      "60000/60000 [==============================] - 3s 46us/step - loss: 0.0053 - categorical_accuracy: 0.9958 - val_loss: 0.0153 - val_categorical_accuracy: 0.9857\n",
      "Epoch 20/25\n",
      "60000/60000 [==============================] - 3s 46us/step - loss: 0.0052 - categorical_accuracy: 0.9960 - val_loss: 0.0157 - val_categorical_accuracy: 0.9868\n",
      "Epoch 21/25\n",
      "60000/60000 [==============================] - 3s 45us/step - loss: 0.0047 - categorical_accuracy: 0.9965 - val_loss: 0.0150 - val_categorical_accuracy: 0.9867\n",
      "Epoch 22/25\n",
      "60000/60000 [==============================] - 3s 46us/step - loss: 0.0045 - categorical_accuracy: 0.9965 - val_loss: 0.0157 - val_categorical_accuracy: 0.9861\n",
      "Epoch 23/25\n",
      "60000/60000 [==============================] - 3s 46us/step - loss: 0.0042 - categorical_accuracy: 0.9970 - val_loss: 0.0158 - val_categorical_accuracy: 0.9857\n",
      "Epoch 24/25\n",
      "60000/60000 [==============================] - 3s 45us/step - loss: 0.0041 - categorical_accuracy: 0.9975 - val_loss: 0.0165 - val_categorical_accuracy: 0.9855\n",
      "Epoch 25/25\n",
      "60000/60000 [==============================] - 3s 46us/step - loss: 0.0038 - categorical_accuracy: 0.9974 - val_loss: 0.0170 - val_categorical_accuracy: 0.9846\n"
     ]
    }
   ],
   "source": [
    "import keras\n",
    "import keras.layers as layers\n",
    "import keras.models as models\n",
    "\n",
    "\n",
    "convnet = keras.Sequential([\n",
    "    layers.Reshape((28, 28, 1), input_shape=(28,28)),\n",
    "    layers.Conv2D(8, (5, 5), strides=(1, 1), activation=\"relu\"),\n",
    "    layers.Flatten(),\n",
    "    layers.Dense(10, activation=\"sigmoid\"),\n",
    "])\n",
    "\n",
    "convnet.compile(\n",
    "    optimizer=\"adam\",\n",
    "    loss=\"binary_crossentropy\",\n",
    "    metrics=[keras.metrics.categorical_accuracy])\n",
    "\n",
    "conv_history = convnet.fit(\n",
    "    x=train_x,\n",
    "    y=train_y,\n",
    "    batch_size=64,\n",
    "    epochs=25,\n",
    "    verbose=1,\n",
    "    validation_data=(test_x, test_y),\n",
    "    shuffle=True,)"
   ]
  },
  {
   "cell_type": "code",
   "execution_count": 4,
   "metadata": {},
   "outputs": [
    {
     "data": {
      "text/plain": [
       "[<matplotlib.lines.Line2D at 0x7f73a80c2320>]"
      ]
     },
     "execution_count": 4,
     "metadata": {},
     "output_type": "execute_result"
    },
    {
     "data": {
      "image/png": "[encoded data removed]",
      "text/plain": [
       "<Figure size 576x288 with 2 Axes>"
      ]
     },
     "metadata": {
      "needs_background": "light"
     },
     "output_type": "display_data"
    }
   ],
   "source": [
    "fig, axes = plt.subplots(1, 2, figsize=(8, 4), squeeze=True)\n",
    "axes[0].set_title(\"Loss\")\n",
    "axes[0].plot(conv_history.history[\"loss\"], c=\"b\")\n",
    "axes[0].plot(conv_history.history[\"val_loss\"], c=\"r\")\n",
    "\n",
    "axes[1].set_title(\"Accuracy\")\n",
    "axes[1].set_ylim((0.95, 1))\n",
    "axes[1].plot(conv_history.history[\"categorical_accuracy\"], c=\"b\")\n",
    "axes[1].plot(conv_history.history[\"val_categorical_accuracy\"], c=\"r\")"
   ]
  },
  {
   "cell_type": "code",
   "execution_count": 5,
   "metadata": {
    "scrolled": true
   },
   "outputs": [
    {
     "name": "stderr",
     "output_type": "stream",
     "text": [
      "WARNING: Logging before flag parsing goes to stderr.\n",
      "W0212 10:37:44.137183 140137268148032 deprecation.py:323] From /home/ryan-desktop/anaconda3/envs/keras/lib/python3.7/site-packages/tensorflow/python/ops/math_grad.py:102: div (from tensorflow.python.ops.math_ops) is deprecated and will be removed in a future version.\n",
      "Instructions for updating:\n",
      "Deprecated in favor of operator or tf.math.divide.\n"
     ]
    },
    {
     "name": "stdout",
     "output_type": "stream",
     "text": [
      "Train on 60000 samples, validate on 10000 samples\n",
      "Epoch 1/25\n",
      "60000/60000 [==============================] - 6s 95us/step - loss: 0.2561 - categorical_accuracy: 0.7143 - val_loss: 0.1505 - val_categorical_accuracy: 0.9411\n",
      "Epoch 2/25\n",
      "60000/60000 [==============================] - 5s 90us/step - loss: 0.1052 - categorical_accuracy: 0.9518 - val_loss: 0.0736 - val_categorical_accuracy: 0.9629\n",
      "Epoch 3/25\n",
      "60000/60000 [==============================] - 5s 91us/step - loss: 0.0579 - categorical_accuracy: 0.9666 - val_loss: 0.0455 - val_categorical_accuracy: 0.9684\n",
      "Epoch 4/25\n",
      "60000/60000 [==============================] - 5s 91us/step - loss: 0.0381 - categorical_accuracy: 0.9751 - val_loss: 0.0327 - val_categorical_accuracy: 0.9753\n",
      "Epoch 5/25\n",
      "60000/60000 [==============================] - 5s 90us/step - loss: 0.0275 - categorical_accuracy: 0.9805 - val_loss: 0.0256 - val_categorical_accuracy: 0.9784\n",
      "Epoch 6/25\n",
      "60000/60000 [==============================] - 5s 91us/step - loss: 0.0209 - categorical_accuracy: 0.9844 - val_loss: 0.0213 - val_categorical_accuracy: 0.9820\n",
      "Epoch 7/25\n",
      "60000/60000 [==============================] - 5s 90us/step - loss: 0.0165 - categorical_accuracy: 0.9877 - val_loss: 0.0181 - val_categorical_accuracy: 0.9824\n",
      "Epoch 8/25\n",
      "60000/60000 [==============================] - 5s 91us/step - loss: 0.0133 - categorical_accuracy: 0.9900 - val_loss: 0.0168 - val_categorical_accuracy: 0.9834\n",
      "Epoch 9/25\n",
      "60000/60000 [==============================] - 5s 90us/step - loss: 0.0112 - categorical_accuracy: 0.9919 - val_loss: 0.0160 - val_categorical_accuracy: 0.9826\n",
      "Epoch 10/25\n",
      "60000/60000 [==============================] - 5s 90us/step - loss: 0.0093 - categorical_accuracy: 0.9934 - val_loss: 0.0157 - val_categorical_accuracy: 0.9824\n",
      "Epoch 11/25\n",
      "60000/60000 [==============================] - 5s 91us/step - loss: 0.0078 - categorical_accuracy: 0.9944 - val_loss: 0.0144 - val_categorical_accuracy: 0.9843\n",
      "Epoch 12/25\n",
      "60000/60000 [==============================] - 5s 91us/step - loss: 0.0067 - categorical_accuracy: 0.9958 - val_loss: 0.0145 - val_categorical_accuracy: 0.9823\n",
      "Epoch 13/25\n",
      "60000/60000 [==============================] - 5s 91us/step - loss: 0.0058 - categorical_accuracy: 0.9967 - val_loss: 0.0165 - val_categorical_accuracy: 0.9802\n",
      "Epoch 14/25\n",
      "60000/60000 [==============================] - 5s 91us/step - loss: 0.0052 - categorical_accuracy: 0.9972 - val_loss: 0.0144 - val_categorical_accuracy: 0.9821\n",
      "Epoch 15/25\n",
      "60000/60000 [==============================] - 5s 91us/step - loss: 0.0045 - categorical_accuracy: 0.9977 - val_loss: 0.0155 - val_categorical_accuracy: 0.9819\n",
      "Epoch 16/25\n",
      "60000/60000 [==============================] - 5s 91us/step - loss: 0.0040 - categorical_accuracy: 0.9979 - val_loss: 0.0143 - val_categorical_accuracy: 0.9817\n",
      "Epoch 17/25\n",
      "60000/60000 [==============================] - 5s 91us/step - loss: 0.0034 - categorical_accuracy: 0.9986 - val_loss: 0.0135 - val_categorical_accuracy: 0.9829\n",
      "Epoch 18/25\n",
      "60000/60000 [==============================] - 5s 91us/step - loss: 0.0029 - categorical_accuracy: 0.9988 - val_loss: 0.0144 - val_categorical_accuracy: 0.9832\n",
      "Epoch 19/25\n",
      "60000/60000 [==============================] - 5s 90us/step - loss: 0.0030 - categorical_accuracy: 0.9989 - val_loss: 0.0150 - val_categorical_accuracy: 0.9822\n",
      "Epoch 20/25\n",
      "60000/60000 [==============================] - 5s 91us/step - loss: 0.0026 - categorical_accuracy: 0.9991 - val_loss: 0.0151 - val_categorical_accuracy: 0.9815\n",
      "Epoch 21/25\n",
      "60000/60000 [==============================] - 5s 90us/step - loss: 0.0024 - categorical_accuracy: 0.9992 - val_loss: 0.0152 - val_categorical_accuracy: 0.9826\n",
      "Epoch 22/25\n",
      "60000/60000 [==============================] - 5s 90us/step - loss: 0.0022 - categorical_accuracy: 0.9993 - val_loss: 0.0148 - val_categorical_accuracy: 0.9820\n",
      "Epoch 23/25\n",
      "60000/60000 [==============================] - 5s 90us/step - loss: 0.0019 - categorical_accuracy: 0.9995 - val_loss: 0.0147 - val_categorical_accuracy: 0.9822\n",
      "Epoch 24/25\n",
      "60000/60000 [==============================] - 5s 90us/step - loss: 0.0018 - categorical_accuracy: 0.9995 - val_loss: 0.0172 - val_categorical_accuracy: 0.9797\n",
      "Epoch 25/25\n",
      "60000/60000 [==============================] - 5s 91us/step - loss: 0.0019 - categorical_accuracy: 0.9994 - val_loss: 0.0156 - val_categorical_accuracy: 0.9815\n"
     ]
    }
   ],
   "source": [
    "from model import GaussMembership, normalized_product_fn\n",
    "\n",
    "\n",
    "hybrid = keras.Sequential([\n",
    "    layers.Reshape((28, 28, 1), input_shape=(28,28)),\n",
    "    layers.Conv2D(8, (5, 5), strides=(1, 1), activation=\"relu\"),\n",
    "    layers.Flatten(),\n",
    "    GaussMembership(20),\n",
    "    layers.Lambda(lambda x: normalized_product_fn(x)),\n",
    "    layers.Dense(10, activation=\"sigmoid\"),\n",
    "])\n",
    "\n",
    "hybrid.compile(\n",
    "    optimizer=\"adam\",\n",
    "    loss=\"binary_crossentropy\",\n",
    "    metrics=[keras.metrics.categorical_accuracy])\n",
    "\n",
    "hybrid_history = hybrid.fit(\n",
    "    x=train_x,\n",
    "    y=train_y,\n",
    "    batch_size=64,\n",
    "    epochs=25,\n",
    "    verbose=1,\n",
    "    validation_data=(test_x, test_y),\n",
    "    shuffle=True,)"
   ]
  },
  {
   "cell_type": "code",
   "execution_count": 6,
   "metadata": {},
   "outputs": [
    {
     "data": {
      "text/plain": [
       "[<matplotlib.lines.Line2D at 0x7f739865d898>]"
      ]
     },
     "execution_count": 6,
     "metadata": {},
     "output_type": "execute_result"
    },
    {
     "data": {
      "image/png": "[encoded data removed]",
      "text/plain": [
       "<Figure size 576x288 with 2 Axes>"
      ]
     },
     "metadata": {
      "needs_background": "light"
     },
     "output_type": "display_data"
    }
   ],
   "source": [
    "fig, axes = plt.subplots(1, 2, figsize=(8, 4), squeeze=True)\n",
    "axes[0].set_title(\"Loss\")\n",
    "axes[0].plot(hybrid_history.history[\"loss\"], c=\"b\")\n",
    "axes[0].plot(hybrid_history.history[\"val_loss\"], c=\"r\")\n",
    "\n",
    "axes[1].set_title(\"Accuracy\")\n",
    "axes[1].set_ylim((0.95, 1))\n",
    "axes[1].plot(hybrid_history.history[\"categorical_accuracy\"], c=\"b\")\n",
    "axes[1].plot(hybrid_history.history[\"val_categorical_accuracy\"], c=\"r\")"
   ]
  },
  {
   "cell_type": "code",
   "execution_count": 7,
   "metadata": {
    "scrolled": true
   },
   "outputs": [
    {
     "name": "stdout",
     "output_type": "stream",
     "text": [
      "Train on 60000 samples, validate on 10000 samples\n",
      "Epoch 1/25\n",
      "60000/60000 [==============================] - 6s 96us/step - loss: 0.2463 - categorical_accuracy: 0.8000 - val_loss: 0.1407 - val_categorical_accuracy: 0.9530\n",
      "Epoch 2/25\n",
      "60000/60000 [==============================] - 5s 91us/step - loss: 0.1028 - categorical_accuracy: 0.9618 - val_loss: 0.0742 - val_categorical_accuracy: 0.9691\n",
      "Epoch 3/25\n",
      "60000/60000 [==============================] - 6s 94us/step - loss: 0.0576 - categorical_accuracy: 0.9727 - val_loss: 0.0465 - val_categorical_accuracy: 0.9739\n",
      "Epoch 4/25\n",
      "60000/60000 [==============================] - 6s 95us/step - loss: 0.0372 - categorical_accuracy: 0.9790 - val_loss: 0.0332 - val_categorical_accuracy: 0.9766\n",
      "Epoch 5/25\n",
      "60000/60000 [==============================] - 6s 94us/step - loss: 0.0260 - categorical_accuracy: 0.9834 - val_loss: 0.0250 - val_categorical_accuracy: 0.9801\n",
      "Epoch 6/25\n",
      "60000/60000 [==============================] - 6s 94us/step - loss: 0.0193 - categorical_accuracy: 0.9868 - val_loss: 0.0211 - val_categorical_accuracy: 0.9810\n",
      "Epoch 7/25\n",
      "60000/60000 [==============================] - 6s 94us/step - loss: 0.0149 - categorical_accuracy: 0.9899 - val_loss: 0.0192 - val_categorical_accuracy: 0.9805\n",
      "Epoch 8/25\n",
      "60000/60000 [==============================] - 6s 93us/step - loss: 0.0118 - categorical_accuracy: 0.9927 - val_loss: 0.0177 - val_categorical_accuracy: 0.9809\n",
      "Epoch 9/25\n",
      "60000/60000 [==============================] - 5s 92us/step - loss: 0.0097 - categorical_accuracy: 0.9938 - val_loss: 0.0172 - val_categorical_accuracy: 0.9805\n",
      "Epoch 10/25\n",
      "60000/60000 [==============================] - 6s 92us/step - loss: 0.0079 - categorical_accuracy: 0.9955 - val_loss: 0.0155 - val_categorical_accuracy: 0.9809\n",
      "Epoch 11/25\n",
      "60000/60000 [==============================] - 6s 92us/step - loss: 0.0067 - categorical_accuracy: 0.9961 - val_loss: 0.0145 - val_categorical_accuracy: 0.9818\n",
      "Epoch 12/25\n",
      "60000/60000 [==============================] - 6s 92us/step - loss: 0.0056 - categorical_accuracy: 0.9970 - val_loss: 0.0151 - val_categorical_accuracy: 0.9791\n",
      "Epoch 13/25\n",
      "60000/60000 [==============================] - 5s 91us/step - loss: 0.0048 - categorical_accuracy: 0.9975 - val_loss: 0.0143 - val_categorical_accuracy: 0.9818\n",
      "Epoch 14/25\n",
      "60000/60000 [==============================] - 5s 91us/step - loss: 0.0042 - categorical_accuracy: 0.9978 - val_loss: 0.0141 - val_categorical_accuracy: 0.9812\n",
      "Epoch 15/25\n",
      "60000/60000 [==============================] - 6s 92us/step - loss: 0.0036 - categorical_accuracy: 0.9983 - val_loss: 0.0137 - val_categorical_accuracy: 0.9810\n",
      "Epoch 16/25\n",
      "60000/60000 [==============================] - 6s 92us/step - loss: 0.0033 - categorical_accuracy: 0.9984 - val_loss: 0.0144 - val_categorical_accuracy: 0.9800\n",
      "Epoch 17/25\n",
      "60000/60000 [==============================] - 6s 93us/step - loss: 0.0029 - categorical_accuracy: 0.9988 - val_loss: 0.0146 - val_categorical_accuracy: 0.9822\n",
      "Epoch 18/25\n",
      "60000/60000 [==============================] - 6s 93us/step - loss: 0.0024 - categorical_accuracy: 0.9991 - val_loss: 0.0150 - val_categorical_accuracy: 0.9806\n",
      "Epoch 19/25\n",
      "60000/60000 [==============================] - 6s 93us/step - loss: 0.0023 - categorical_accuracy: 0.9991 - val_loss: 0.0148 - val_categorical_accuracy: 0.9808\n",
      "Epoch 20/25\n",
      "60000/60000 [==============================] - 6s 92us/step - loss: 0.0021 - categorical_accuracy: 0.9992 - val_loss: 0.0152 - val_categorical_accuracy: 0.9798\n",
      "Epoch 21/25\n",
      "60000/60000 [==============================] - 6s 92us/step - loss: 0.0019 - categorical_accuracy: 0.9993 - val_loss: 0.0155 - val_categorical_accuracy: 0.9800\n",
      "Epoch 22/25\n",
      "60000/60000 [==============================] - 6s 92us/step - loss: 0.0019 - categorical_accuracy: 0.9994 - val_loss: 0.0158 - val_categorical_accuracy: 0.9803\n",
      "Epoch 23/25\n",
      "60000/60000 [==============================] - 6s 92us/step - loss: 0.0017 - categorical_accuracy: 0.9996 - val_loss: 0.0174 - val_categorical_accuracy: 0.9782\n",
      "Epoch 24/25\n",
      "60000/60000 [==============================] - 6s 92us/step - loss: 0.0015 - categorical_accuracy: 0.9996 - val_loss: 0.0169 - val_categorical_accuracy: 0.9783\n",
      "Epoch 25/25\n",
      "60000/60000 [==============================] - 6s 92us/step - loss: 0.0014 - categorical_accuracy: 0.9996 - val_loss: 0.0188 - val_categorical_accuracy: 0.9765\n"
     ]
    }
   ],
   "source": [
    "hybrid2 = keras.Sequential([\n",
    "    layers.Reshape((28, 28, 1), input_shape=(28,28)),\n",
    "    layers.Conv2D(8, (5, 5), strides=(1, 1), activation=\"relu\"),\n",
    "    layers.Flatten(),\n",
    "    GaussMembership(20),\n",
    "    layers.Lambda(lambda x: normalized_product_fn(x)),\n",
    "    layers.Dense(10, activation=\"sigmoid\"),\n",
    "])\n",
    "\n",
    "hybrid2.layers[1].set_weights(convnet.layers[1].get_weights())\n",
    "hybrid2.compile(\n",
    "    optimizer=\"adam\",\n",
    "    loss=\"binary_crossentropy\",\n",
    "    metrics=[keras.metrics.categorical_accuracy])\n",
    "\n",
    "hybrid2_history = hybrid2.fit(\n",
    "    x=train_x,\n",
    "    y=train_y,\n",
    "    batch_size=64,\n",
    "    epochs=25,\n",
    "    verbose=1,\n",
    "    validation_data=(test_x, test_y),\n",
    "    shuffle=True,)"
   ]
  },
  {
   "cell_type": "code",
   "execution_count": 8,
   "metadata": {},
   "outputs": [
    {
     "data": {
      "text/plain": [
       "[<matplotlib.lines.Line2D at 0x7f739063b6a0>]"
      ]
     },
     "execution_count": 8,
     "metadata": {},
     "output_type": "execute_result"
    },
    {
     "data": {
      "image/png": "[encoded data removed]",
      "text/plain": [
       "<Figure size 576x288 with 2 Axes>"
      ]
     },
     "metadata": {
      "needs_background": "light"
     },
     "output_type": "display_data"
    }
   ],
   "source": [
    "fig, axes = plt.subplots(1, 2, figsize=(8, 4), squeeze=True)\n",
    "axes[0].set_title(\"Loss\")\n",
    "axes[0].plot(hybrid2_history.history[\"loss\"], c=\"b\")\n",
    "axes[0].plot(hybrid2_history.history[\"val_loss\"], c=\"r\")\n",
    "\n",
    "axes[1].set_title(\"Accuracy\")\n",
    "axes[1].set_ylim((0.95, 1))\n",
    "axes[1].plot(hybrid2_history.history[\"categorical_accuracy\"], c=\"b\")\n",
    "axes[1].plot(hybrid2_history.history[\"val_categorical_accuracy\"], c=\"r\")"
   ]
  },
  {
   "cell_type": "code",
   "execution_count": 9,
   "metadata": {
    "scrolled": true
   },
   "outputs": [
    {
     "name": "stdout",
     "output_type": "stream",
     "text": [
      "Train on 60000 samples, validate on 10000 samples\n",
      "Epoch 1/25\n",
      "60000/60000 [==============================] - 6s 98us/step - loss: 0.4435 - categorical_accuracy: 0.3507 - val_loss: 0.3168 - val_categorical_accuracy: 0.4600\n",
      "Epoch 2/25\n",
      "60000/60000 [==============================] - 5s 91us/step - loss: 0.2648 - categorical_accuracy: 0.5372 - val_loss: 0.2157 - val_categorical_accuracy: 0.6264\n",
      "Epoch 3/25\n",
      "60000/60000 [==============================] - 6s 93us/step - loss: 0.1768 - categorical_accuracy: 0.6987 - val_loss: 0.1459 - val_categorical_accuracy: 0.7377\n",
      "Epoch 4/25\n",
      "60000/60000 [==============================] - 6s 93us/step - loss: 0.1292 - categorical_accuracy: 0.7550 - val_loss: 0.1169 - val_categorical_accuracy: 0.7586\n",
      "Epoch 5/25\n",
      "60000/60000 [==============================] - 5s 91us/step - loss: 0.1089 - categorical_accuracy: 0.7671 - val_loss: 0.1019 - val_categorical_accuracy: 0.7677\n",
      "Epoch 6/25\n",
      "60000/60000 [==============================] - 6s 94us/step - loss: 0.0983 - categorical_accuracy: 0.7683 - val_loss: 0.0950 - val_categorical_accuracy: 0.7673\n",
      "Epoch 7/25\n",
      "60000/60000 [==============================] - 6s 93us/step - loss: 0.0925 - categorical_accuracy: 0.7718 - val_loss: 0.0910 - val_categorical_accuracy: 0.7683\n",
      "Epoch 8/25\n",
      "60000/60000 [==============================] - 5s 91us/step - loss: 0.0888 - categorical_accuracy: 0.7740 - val_loss: 0.0872 - val_categorical_accuracy: 0.7725\n",
      "Epoch 9/25\n",
      "60000/60000 [==============================] - 6s 94us/step - loss: 0.0862 - categorical_accuracy: 0.7766 - val_loss: 0.0838 - val_categorical_accuracy: 0.7764\n",
      "Epoch 10/25\n",
      "60000/60000 [==============================] - 6s 93us/step - loss: 0.0847 - categorical_accuracy: 0.7761 - val_loss: 0.0841 - val_categorical_accuracy: 0.7746\n",
      "Epoch 11/25\n",
      "60000/60000 [==============================] - 5s 92us/step - loss: 0.0819 - categorical_accuracy: 0.7791 - val_loss: 0.0828 - val_categorical_accuracy: 0.7763\n",
      "Epoch 12/25\n",
      "60000/60000 [==============================] - 5s 91us/step - loss: 0.0808 - categorical_accuracy: 0.7806 - val_loss: 0.0818 - val_categorical_accuracy: 0.7782\n",
      "Epoch 13/25\n",
      "60000/60000 [==============================] - 5s 89us/step - loss: 0.0797 - categorical_accuracy: 0.7829 - val_loss: 0.0824 - val_categorical_accuracy: 0.7762\n",
      "Epoch 14/25\n",
      "60000/60000 [==============================] - 6s 92us/step - loss: 0.0788 - categorical_accuracy: 0.7853 - val_loss: 0.0824 - val_categorical_accuracy: 0.7772\n",
      "Epoch 15/25\n",
      "60000/60000 [==============================] - 5s 90us/step - loss: 0.0783 - categorical_accuracy: 0.7889 - val_loss: 0.0796 - val_categorical_accuracy: 0.7852\n",
      "Epoch 16/25\n",
      "60000/60000 [==============================] - 6s 92us/step - loss: 0.0766 - categorical_accuracy: 0.7967 - val_loss: 0.0776 - val_categorical_accuracy: 0.7992\n",
      "Epoch 17/25\n",
      "60000/60000 [==============================] - 6s 92us/step - loss: 0.0715 - categorical_accuracy: 0.8311 - val_loss: 0.0685 - val_categorical_accuracy: 0.8421\n",
      "Epoch 18/25\n",
      "60000/60000 [==============================] - 6s 93us/step - loss: 0.0617 - categorical_accuracy: 0.8665 - val_loss: 0.0597 - val_categorical_accuracy: 0.8704\n",
      "Epoch 19/25\n",
      "60000/60000 [==============================] - 6s 94us/step - loss: 0.0580 - categorical_accuracy: 0.8723 - val_loss: 0.0577 - val_categorical_accuracy: 0.8722\n",
      "Epoch 20/25\n",
      "60000/60000 [==============================] - 6s 93us/step - loss: 0.0555 - categorical_accuracy: 0.8749 - val_loss: 0.0567 - val_categorical_accuracy: 0.8741\n",
      "Epoch 21/25\n",
      "60000/60000 [==============================] - 6s 93us/step - loss: 0.0540 - categorical_accuracy: 0.8773 - val_loss: 0.0557 - val_categorical_accuracy: 0.8748\n",
      "Epoch 22/25\n",
      "60000/60000 [==============================] - 5s 91us/step - loss: 0.0527 - categorical_accuracy: 0.8780 - val_loss: 0.0559 - val_categorical_accuracy: 0.8756\n",
      "Epoch 23/25\n",
      "60000/60000 [==============================] - 6s 94us/step - loss: 0.0517 - categorical_accuracy: 0.8802 - val_loss: 0.0553 - val_categorical_accuracy: 0.8746\n",
      "Epoch 24/25\n",
      "60000/60000 [==============================] - 6s 94us/step - loss: 0.0510 - categorical_accuracy: 0.8803 - val_loss: 0.0534 - val_categorical_accuracy: 0.8778\n",
      "Epoch 25/25\n",
      "60000/60000 [==============================] - 6s 93us/step - loss: 0.0503 - categorical_accuracy: 0.8810 - val_loss: 0.0535 - val_categorical_accuracy: 0.8783\n"
     ]
    }
   ],
   "source": [
    "import skfuzzy as skf\n",
    "import keras.backend as K\n",
    "\n",
    "\n",
    "hybrid3 = keras.Sequential([\n",
    "    layers.Reshape((28, 28, 1), input_shape=(28,28)),\n",
    "    layers.Conv2D(8, (5, 5), strides=(1, 1), activation=\"relu\"),\n",
    "    layers.Flatten(),\n",
    "    GaussMembership(20),\n",
    "    layers.Lambda(lambda x: normalized_product_fn(x)),\n",
    "    layers.Dense(10, activation=\"sigmoid\"),\n",
    "])\n",
    "\n",
    "def fcm_parameters(model, X, num_rules):\n",
    "    intermediate = K.function(model.inputs, [model.layers[2].output])([X])[0]\n",
    "    centers, memberships, u0, d, jm, p, fpc = skf.cmeans(\n",
    "        intermediate.T, num_rules, 1.1, 1e-8, 100, seed=0)\n",
    "    return centers, np.ones(centers.shape)\n",
    "\n",
    "hybrid3.layers[1].set_weights(convnet.layers[1].get_weights())\n",
    "hybrid3.layers[3].set_weights(fcm_parameters(hybrid3, train_x, 20))\n",
    "\n",
    "hybrid3.compile(\n",
    "    optimizer=\"adam\",\n",
    "    loss=\"binary_crossentropy\",\n",
    "    metrics=[keras.metrics.categorical_accuracy])\n",
    "\n",
    "hybrid3_history = hybrid3.fit(\n",
    "    x=train_x,\n",
    "    y=train_y,\n",
    "    batch_size=64,\n",
    "    epochs=25,\n",
    "    verbose=1,\n",
    "    validation_data=(test_x, test_y),\n",
    "    shuffle=True,)"
   ]
  },
  {
   "cell_type": "code",
   "execution_count": 10,
   "metadata": {},
   "outputs": [
    {
     "data": {
      "text/plain": [
       "[<matplotlib.lines.Line2D at 0x7f7348657470>]"
      ]
     },
     "execution_count": 10,
     "metadata": {},
     "output_type": "execute_result"
    },
    {
     "data": {
      "image/png": "[encoded data removed]",
      "text/plain": [
       "<Figure size 576x288 with 2 Axes>"
      ]
     },
     "metadata": {
      "needs_background": "light"
     },
     "output_type": "display_data"
    }
   ],
   "source": [
    "fig, axes = plt.subplots(1, 2, figsize=(8, 4), squeeze=True)\n",
    "axes[0].set_title(\"Loss\")\n",
    "axes[0].plot(hybrid3_history.history[\"loss\"], c=\"b\")\n",
    "axes[0].plot(hybrid3_history.history[\"val_loss\"], c=\"r\")\n",
    "\n",
    "axes[1].set_title(\"Accuracy\")\n",
    "axes[1].set_ylim((0.95, 1))\n",
    "axes[1].plot(hybrid3_history.history[\"categorical_accuracy\"], c=\"b\")\n",
    "axes[1].plot(hybrid3_history.history[\"val_categorical_accuracy\"], c=\"r\")"
   ]
  },
  {
   "cell_type": "code",
   "execution_count": 12,
   "metadata": {
    "scrolled": true
   },
   "outputs": [
    {
     "name": "stdout",
     "output_type": "stream",
     "text": [
      "Train on 60000 samples, validate on 10000 samples\n",
      "Epoch 1/25\n",
      "60000/60000 [==============================] - 6s 94us/step - loss: 0.3757 - categorical_accuracy: 0.3565 - val_loss: 0.2954 - val_categorical_accuracy: 0.6570\n",
      "Epoch 2/25\n",
      "60000/60000 [==============================] - 5s 89us/step - loss: 0.2660 - categorical_accuracy: 0.7466 - val_loss: 0.2352 - val_categorical_accuracy: 0.7704\n",
      "Epoch 3/25\n",
      "60000/60000 [==============================] - 5s 88us/step - loss: 0.2116 - categorical_accuracy: 0.8035 - val_loss: 0.1873 - val_categorical_accuracy: 0.8048\n",
      "Epoch 4/25\n",
      "60000/60000 [==============================] - 5s 89us/step - loss: 0.1721 - categorical_accuracy: 0.7752 - val_loss: 0.1574 - val_categorical_accuracy: 0.7264\n",
      "Epoch 5/25\n",
      "60000/60000 [==============================] - 5s 88us/step - loss: 0.1439 - categorical_accuracy: 0.7346 - val_loss: 0.1330 - val_categorical_accuracy: 0.7209\n",
      "Epoch 6/25\n",
      "60000/60000 [==============================] - 5s 89us/step - loss: 0.1264 - categorical_accuracy: 0.7105 - val_loss: 0.1200 - val_categorical_accuracy: 0.7079\n",
      "Epoch 7/25\n",
      "60000/60000 [==============================] - 5s 88us/step - loss: 0.1157 - categorical_accuracy: 0.7013 - val_loss: 0.1143 - val_categorical_accuracy: 0.7184\n",
      "Epoch 8/25\n",
      "60000/60000 [==============================] - 5s 87us/step - loss: 0.1097 - categorical_accuracy: 0.6963 - val_loss: 0.1098 - val_categorical_accuracy: 0.6957\n",
      "Epoch 9/25\n",
      "60000/60000 [==============================] - 5s 86us/step - loss: 0.1057 - categorical_accuracy: 0.6968 - val_loss: 0.1072 - val_categorical_accuracy: 0.6970\n",
      "Epoch 10/25\n",
      "60000/60000 [==============================] - 5s 86us/step - loss: 0.1037 - categorical_accuracy: 0.6956 - val_loss: 0.1067 - val_categorical_accuracy: 0.6966\n",
      "Epoch 11/25\n",
      "60000/60000 [==============================] - 5s 86us/step - loss: 0.1018 - categorical_accuracy: 0.6950 - val_loss: 0.1047 - val_categorical_accuracy: 0.6946\n",
      "Epoch 12/25\n",
      "60000/60000 [==============================] - 5s 86us/step - loss: 0.1002 - categorical_accuracy: 0.6985 - val_loss: 0.1048 - val_categorical_accuracy: 0.6913\n",
      "Epoch 13/25\n",
      "60000/60000 [==============================] - 5s 88us/step - loss: 0.1000 - categorical_accuracy: 0.6968 - val_loss: 0.1018 - val_categorical_accuracy: 0.6894\n",
      "Epoch 14/25\n",
      "60000/60000 [==============================] - 5s 89us/step - loss: 0.0992 - categorical_accuracy: 0.6970 - val_loss: 0.1030 - val_categorical_accuracy: 0.6926\n",
      "Epoch 15/25\n",
      "60000/60000 [==============================] - 5s 87us/step - loss: 0.0986 - categorical_accuracy: 0.6992 - val_loss: 0.1031 - val_categorical_accuracy: 0.6980\n",
      "Epoch 16/25\n",
      "60000/60000 [==============================] - 5s 87us/step - loss: 0.0984 - categorical_accuracy: 0.6991 - val_loss: 0.1010 - val_categorical_accuracy: 0.6943\n",
      "Epoch 17/25\n",
      "60000/60000 [==============================] - 5s 88us/step - loss: 0.0975 - categorical_accuracy: 0.7012 - val_loss: 0.1027 - val_categorical_accuracy: 0.6960\n",
      "Epoch 18/25\n",
      "60000/60000 [==============================] - 5s 86us/step - loss: 0.0976 - categorical_accuracy: 0.6991 - val_loss: 0.1031 - val_categorical_accuracy: 0.6898\n",
      "Epoch 19/25\n",
      "60000/60000 [==============================] - 5s 86us/step - loss: 0.0967 - categorical_accuracy: 0.6983 - val_loss: 0.1003 - val_categorical_accuracy: 0.6964\n",
      "Epoch 20/25\n",
      "60000/60000 [==============================] - 5s 89us/step - loss: 0.0973 - categorical_accuracy: 0.7001 - val_loss: 0.1027 - val_categorical_accuracy: 0.6919\n",
      "Epoch 21/25\n",
      "60000/60000 [==============================] - 5s 87us/step - loss: 0.0964 - categorical_accuracy: 0.6994 - val_loss: 0.1027 - val_categorical_accuracy: 0.6924\n",
      "Epoch 22/25\n",
      "60000/60000 [==============================] - 5s 87us/step - loss: 0.0963 - categorical_accuracy: 0.7009 - val_loss: 0.1007 - val_categorical_accuracy: 0.6928\n",
      "Epoch 23/25\n",
      "60000/60000 [==============================] - 5s 90us/step - loss: 0.0966 - categorical_accuracy: 0.6997 - val_loss: 0.1012 - val_categorical_accuracy: 0.6937\n",
      "Epoch 24/25\n",
      "60000/60000 [==============================] - 5s 89us/step - loss: 0.0962 - categorical_accuracy: 0.7009 - val_loss: 0.1012 - val_categorical_accuracy: 0.6967\n",
      "Epoch 25/25\n",
      "60000/60000 [==============================] - 5s 86us/step - loss: 0.0954 - categorical_accuracy: 0.7006 - val_loss: 0.1009 - val_categorical_accuracy: 0.6955\n"
     ]
    }
   ],
   "source": [
    "hybrid4 = keras.Sequential([\n",
    "    layers.Reshape((28, 28, 1), input_shape=(28,28)),\n",
    "    layers.Conv2D(8, (5, 5), strides=(1, 1), activation=\"relu\", trainable=False),\n",
    "    layers.Flatten(),\n",
    "    GaussMembership(20),\n",
    "    layers.Lambda(lambda x: normalized_product_fn(x)),\n",
    "    layers.Dense(10, activation=\"sigmoid\"),\n",
    "])\n",
    "\n",
    "hybrid4.layers[1].set_weights(convnet.layers[1].get_weights())\n",
    "\n",
    "hybrid4.compile(\n",
    "    optimizer=\"adam\",\n",
    "    loss=\"binary_crossentropy\",\n",
    "    metrics=[keras.metrics.categorical_accuracy])\n",
    "\n",
    "hybrid4_history = hybrid4.fit(\n",
    "    x=train_x,\n",
    "    y=train_y,\n",
    "    batch_size=64,\n",
    "    epochs=25,\n",
    "    verbose=1,\n",
    "    validation_data=(test_x, test_y),\n",
    "    shuffle=True,)"
   ]
  },
  {
   "cell_type": "code",
   "execution_count": 14,
   "metadata": {},
   "outputs": [
    {
     "data": {
      "text/plain": [
       "[<matplotlib.lines.Line2D at 0x7f732c560470>]"
      ]
     },
     "execution_count": 14,
     "metadata": {},
     "output_type": "execute_result"
    },
    {
     "data": {
      "image/png": "[encoded data removed]",
      "text/plain": [
       "<Figure size 576x288 with 2 Axes>"
      ]
     },
     "metadata": {
      "needs_background": "light"
     },
     "output_type": "display_data"
    }
   ],
   "source": [
    "fig, axes = plt.subplots(1, 2, figsize=(8, 4), squeeze=True)\n",
    "axes[0].set_title(\"Loss\")\n",
    "axes[0].plot(hybrid4_history.history[\"loss\"], c=\"b\")\n",
    "axes[0].plot(hybrid4_history.history[\"val_loss\"], c=\"r\")\n",
    "\n",
    "axes[1].set_title(\"Accuracy\")\n",
    "#axes[1].set_ylim((0.95, 1))\n",
    "axes[1].plot(hybrid4_history.history[\"categorical_accuracy\"], c=\"b\")\n",
    "axes[1].plot(hybrid4_history.history[\"val_categorical_accuracy\"], c=\"r\")"
   ]
  },
  {
   "cell_type": "code",
   "execution_count": null,
   "metadata": {},
   "outputs": [],
   "source": []
  }
 ],
 "metadata": {
  "kernelspec": {
   "display_name": "keras",
   "language": "python",
   "name": "keras"
  },
  "language_info": {
   "codemirror_mode": {
    "name": "ipython",
    "version": 3
   },
   "file_extension": ".py",
   "mimetype": "text/x-python",
   "name": "python",
   "nbconvert_exporter": "python",
   "pygments_lexer": "ipython3",
   "version": "3.7.2"
  }
 },
 "nbformat": 4,
 "nbformat_minor": 2
}
