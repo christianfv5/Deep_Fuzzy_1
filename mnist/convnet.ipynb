{
 "cells": [
  {
   "cell_type": "code",
   "execution_count": 1,
   "metadata": {},
   "outputs": [],
   "source": [
    "import gzip\n",
    "import numpy as np\n",
    "import matplotlib.pyplot as plt\n",
    "\n",
    "def load_data(filename, dims):\n",
    "    with gzip.open(filename, \"rb\") as infile:\n",
    "        # consume magic number\n",
    "        infile.read(4)\n",
    "        # consume dimensions data\n",
    "        infile.read(4 * len(dims))\n",
    "\n",
    "        return np.frombuffer(infile.read(np.prod(dims)), dtype=np.uint8).reshape(dims)\n",
    "\n",
    "# training data\n",
    "train_images = load_data(\"data/train-images-idx3-ubyte.gz\", [60000, 784])\n",
    "train_labels = load_data(\"data/train-labels-idx1-ubyte.gz\", [60000])\n",
    "\n",
    "# testing data\n",
    "test_images = load_data(\"data/t10k-images-idx3-ubyte.gz\", [10000, 784])\n",
    "test_labels = load_data(\"data/t10k-labels-idx1-ubyte.gz\", [10000])"
   ]
  },
  {
   "cell_type": "code",
   "execution_count": 2,
   "metadata": {},
   "outputs": [],
   "source": [
    "train_x = train_images.astype(np.float) / 255\n",
    "train_y = np.zeros((60000, 10))\n",
    "train_y[np.arange(60000),train_labels] = 1\n",
    "\n",
    "test_x = test_images.astype(np.float) / 255\n",
    "test_y = np.zeros((10000, 10))\n",
    "test_y[np.arange(10000),test_labels] = 1"
   ]
  },
  {
   "cell_type": "code",
   "execution_count": null,
   "metadata": {},
   "outputs": [],
   "source": [
    "import keras\n",
    "import keras.layers as layers\n",
    "import keras.models as models\n",
    "from model import GaussMembership, normalized_product_fn"
   ]
  }
 ],
 "metadata": {
  "kernelspec": {
   "display_name": "keras",
   "language": "python",
   "name": "keras"
  },
  "language_info": {
   "codemirror_mode": {
    "name": "ipython",
    "version": 3
   },
   "file_extension": ".py",
   "mimetype": "text/x-python",
   "name": "python",
   "nbconvert_exporter": "python",
   "pygments_lexer": "ipython3",
   "version": "3.7.2"
  }
 },
 "nbformat": 4,
 "nbformat_minor": 2
}
