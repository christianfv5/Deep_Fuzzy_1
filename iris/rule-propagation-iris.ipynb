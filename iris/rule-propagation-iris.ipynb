{
 "cells": [
  {
   "cell_type": "markdown",
   "metadata": {},
   "source": [
    "Load the Iris dataset and whiten the data."
   ]
  },
  {
   "cell_type": "code",
   "execution_count": 1,
   "metadata": {},
   "outputs": [],
   "source": [
    "import numpy as np\n",
    "import matplotlib.pyplot as plt\n",
    "from sklearn import datasets\n",
    "\n",
    "iris = datasets.load_iris()\n",
    "train_x, classes = iris.data, iris.target\n",
    "\n",
    "# whiten features\n",
    "train_x -= np.mean(train_x, axis=0)\n",
    "train_x /= np.std(train_x, axis=0) + 1e-8\n",
    "\n",
    "# convert target to one hot vectors\n",
    "train_y = np.zeros((150, 3))\n",
    "train_y[np.arange(150), classes] = 1"
   ]
  },
  {
   "cell_type": "markdown",
   "metadata": {},
   "source": [
    "Train a fuzzy classifier for analysis later."
   ]
  },
  {
   "cell_type": "code",
   "execution_count": 2,
   "metadata": {},
   "outputs": [
    {
     "name": "stderr",
     "output_type": "stream",
     "text": [
      "Using TensorFlow backend.\n"
     ]
    },
    {
     "name": "stdout",
     "output_type": "stream",
     "text": [
      "150/150 [==============================] - 0s 226us/step\n",
      "[0.026712746024131775, 0.9866666642824808]\n"
     ]
    },
    {
     "data": {
      "image/png": "[encoded data removed]",
      "text/plain": [
       "<Figure size 576x288 with 2 Axes>"
      ]
     },
     "metadata": {
      "needs_background": "light"
     },
     "output_type": "display_data"
    }
   ],
   "source": [
    "import keras\n",
    "import keras.layers as layers\n",
    "import keras.backend as K\n",
    "from model import LogGaussMF\n",
    "\n",
    "\n",
    "def train_model():\n",
    "    model = keras.Sequential([\n",
    "        LogGaussMF(3, input_shape=(4,)),\n",
    "        layers.Lambda(lambda x: K.sum(x, axis=-1)),\n",
    "        layers.Activation(\"softmax\")\n",
    "    ])\n",
    "    \n",
    "    model.compile(\n",
    "        optimizer=keras.optimizers.adam(lr=0.03),\n",
    "        loss=\"binary_crossentropy\",\n",
    "        metrics=[keras.metrics.categorical_accuracy])\n",
    "\n",
    "    # train the model\n",
    "    history = model.fit(\n",
    "        x=train_x,\n",
    "        y=train_y,\n",
    "        batch_size=16,\n",
    "        epochs=200,\n",
    "        verbose=0,\n",
    "        shuffle=True)\n",
    "    \n",
    "    print(model.evaluate(train_x, train_y))\n",
    "    \n",
    "    # plot the loss and accuracy\n",
    "    fig, axes = plt.subplots(1, 2, figsize=(8, 4), squeeze=True)\n",
    "    axes[0].set_title(\"Loss\")\n",
    "    axes[0].plot(history.history[\"loss\"], c=\"b\")\n",
    "\n",
    "    axes[1].set_title(\"Accuracy\")\n",
    "    axes[1].plot(history.history[\"categorical_accuracy\"], c=\"b\")\n",
    "\n",
    "    return model\n",
    "\n",
    "\n",
    "model = train_model()"
   ]
  },
  {
   "cell_type": "markdown",
   "metadata": {},
   "source": [
    "This function finds the representative for each class. The representative is the training example that maximizes the firing strength of that classes rule rule."
   ]
  },
  {
   "cell_type": "code",
   "execution_count": 3,
   "metadata": {},
   "outputs": [],
   "source": [
    "def find_representatives(model):\n",
    "    pred_y = model.predict(train_x)\n",
    "    \n",
    "    medoid_idxs = []\n",
    "    for i in range(3):\n",
    "        medoid_idxs.append(np.argmax(pred_y[:,i]))\n",
    "    \n",
    "    return train_x[medoid_idxs]\n",
    "\n",
    "\n",
    "medoids = find_representatives(model)"
   ]
  },
  {
   "cell_type": "markdown",
   "metadata": {},
   "source": [
    "The code in this section is for getting the intermediate tensors from iNNvestigate. There appears to be a bug in the function \"\\_handle_debug_output\" that causes the program to crash when storing intermediate values of the neural network analysis. The function can be temporarily patched, until the library is updated as is done below."
   ]
  },
  {
   "cell_type": "code",
   "execution_count": 4,
   "metadata": {},
   "outputs": [
    {
     "name": "stdout",
     "output_type": "stream",
     "text": [
      "[[ 0.6412339  -0.14651312 -0.5086592  -1.163646  ]]\n",
      "[[[1. 1. 1. 1.]\n",
      "  [0. 0. 0. 0.]\n",
      "  [0. 0. 0. 0.]]]\n",
      "[[1. 0. 0.]]\n",
      "\n",
      "[[ 2.3218846  2.4583893 -3.3971758 -2.464064 ]]\n",
      "[[[0. 0. 0. 0.]\n",
      "  [1. 1. 1. 1.]\n",
      "  [0. 0. 0. 0.]]]\n",
      "[[0. 1. 0.]]\n",
      "\n",
      "[[ 0.02842956 -5.556132    3.6764874   0.96595174]]\n",
      "[[[0. 0. 0. 0.]\n",
      "  [0. 0. 0. 0.]\n",
      "  [1. 1. 1. 1.]]]\n",
      "[[0. 0. 1.]]\n",
      "\n"
     ]
    }
   ],
   "source": [
    "import innvestigate\n",
    "from keras.models import Model\n",
    "\n",
    "\n",
    "def _handle_debug_output_patched(self, debug_values):\n",
    "    \n",
    "    if self._reverse_check_min_max_values:\n",
    "        indices = self._debug_tensors_indices[\"min\"]\n",
    "        tmp = debug_values[indices[0]:indices[1]]\n",
    "        tmp = sorted([(self._reverse_tensors_mapping[i], v)\n",
    "                      for i, v in enumerate(tmp)])\n",
    "        print(\"Minimum values in tensors: \"\n",
    "              \"((NodeID, TensorID), Value) - {}\".format(tmp))\n",
    "\n",
    "        indices = self._debug_tensors_indices[\"max\"]\n",
    "        tmp = debug_values[indices[0]:indices[1]]\n",
    "        tmp = sorted([(self._reverse_tensors_mapping[i], v)\n",
    "                      for i, v in enumerate(tmp)])\n",
    "        print(\"Maximum values in tensors: \"\n",
    "              \"((NodeID, TensorID), Value) - {}\".format(tmp))\n",
    "\n",
    "    if self._reverse_check_finite:\n",
    "        indices = self._debug_tensors_indices[\"finite\"]\n",
    "        tmp = debug_values[indices[0]:indices[1]]\n",
    "        nfinite_tensors = np.flatnonzero(np.asarray(tmp) > 0)\n",
    "\n",
    "        if len(nfinite_tensors) > 0:\n",
    "            nfinite_tensors = sorted([self._reverse_tensors_mapping[i]\n",
    "                                      for i in nfinite_tensors])\n",
    "            print(\"Not finite values found in following nodes: \"\n",
    "                  \"(NodeID, TensorID) - {}\".format(nfinite_tensors))\n",
    "\n",
    "    if self._reverse_keep_tensors:\n",
    "        indices = self._debug_tensors_indices[\"keep\"]\n",
    "        tmp = debug_values[indices[0]:indices[1]]\n",
    "        # added: key=lambda x: x[0]\n",
    "        tmp = sorted([(self._reverse_tensors_mapping[i], v)\n",
    "                      for i, v in enumerate(tmp)], key=lambda x: x[0])\n",
    "    self._reversed_tensors = tmp\n",
    "\n",
    "\n",
    "def create_analyzer(name, model, **kwargs):\n",
    "    analyzer = innvestigate.create_analyzer(\n",
    "        name, model, **kwargs)\n",
    "    analyzer._handle_debug_output = lambda x: _handle_debug_output_patched(analyzer, x)\n",
    "    return analyzer\n",
    "   \n",
    "\n",
    "model_wo_softmax = Model(model.inputs, [model.layers[-2].output])\n",
    "analyzer = create_analyzer( \n",
    "    \"gradient\", \n",
    "    model_wo_softmax,\n",
    "    neuron_selection_mode=\"index\",\n",
    "    allow_lambda_layers=True,\n",
    "    reverse_keep_tensors=True)\n",
    "\n",
    "for i in range(3):\n",
    "    print(analyzer.analyze(np.reshape(medoids[i], (1,-1)), i))\n",
    "    for x in filter(lambda x: x[0][0] >= 0, analyzer._reversed_tensors):\n",
    "        print(x[1])\n",
    "    print()"
   ]
  },
  {
   "cell_type": "markdown",
   "metadata": {},
   "source": [
    "A fuzzy model with a single layer for feature extraction is trained below for later analysis."
   ]
  },
  {
   "cell_type": "code",
   "execution_count": 5,
   "metadata": {},
   "outputs": [
    {
     "name": "stdout",
     "output_type": "stream",
     "text": [
      "150/150 [==============================] - 0s 310us/step\n",
      "[0.02071162320594643, 0.9866666642824808]\n"
     ]
    },
    {
     "data": {
      "image/png": "[encoded data removed]",
      "text/plain": [
       "<Figure size 576x288 with 2 Axes>"
      ]
     },
     "metadata": {
      "needs_background": "light"
     },
     "output_type": "display_data"
    }
   ],
   "source": [
    "def train_deep_model():\n",
    "    model = keras.Sequential([\n",
    "        layers.Dense(4, activation=\"relu\", input_shape=(4,)),\n",
    "        LogGaussMF(3),\n",
    "        layers.Lambda(lambda x: K.sum(x, axis=-1)),\n",
    "        layers.Activation(\"softmax\")\n",
    "    ])\n",
    "    \n",
    "    model.compile(\n",
    "        optimizer=keras.optimizers.adam(lr=0.01),\n",
    "        loss=\"binary_crossentropy\",\n",
    "        metrics=[keras.metrics.categorical_accuracy])\n",
    "\n",
    "    # train the model\n",
    "    history = model.fit(\n",
    "        x=train_x,\n",
    "        y=train_y,\n",
    "        batch_size=16,\n",
    "        epochs=200,\n",
    "        verbose=0,\n",
    "        shuffle=True)\n",
    "    \n",
    "    print(model.evaluate(train_x, train_y))\n",
    "    \n",
    "    # plot the loss and accuracy\n",
    "    fig, axes = plt.subplots(1, 2, figsize=(8, 4), squeeze=True)\n",
    "    axes[0].set_title(\"Loss\")\n",
    "    axes[0].plot(history.history[\"loss\"], c=\"b\")\n",
    "\n",
    "    axes[1].set_title(\"Accuracy\")\n",
    "    axes[1].plot(history.history[\"categorical_accuracy\"], c=\"b\")\n",
    "\n",
    "    return model\n",
    "\n",
    "\n",
    "deep_model = train_deep_model()"
   ]
  },
  {
   "cell_type": "markdown",
   "metadata": {},
   "source": [
    "This function analyzes the representatives for each class. Currently it just prints the tensors' value to stdout."
   ]
  },
  {
   "cell_type": "code",
   "execution_count": 6,
   "metadata": {},
   "outputs": [
    {
     "name": "stdout",
     "output_type": "stream",
     "text": [
      "Medoid 0:\n",
      "[[-0.2564227   0.05858905  0.20340745  0.46532977]]\n",
      "[[[-0.39988947 -0.39988947 -0.39988947 -0.39988947]\n",
      "  [ 0.          0.          0.          0.        ]\n",
      "  [ 0.          0.          0.          0.        ]]]\n",
      "[[-0.39988947  0.          0.        ]]\n",
      "\n",
      "Medoid 1:\n",
      "[[-11.283668 -11.94704   16.509262  11.974616]]\n",
      "[[[ 0.        0.        0.        0.      ]\n",
      "  [-4.859702 -4.859702 -4.859702 -4.859702]\n",
      "  [ 0.        0.        0.        0.      ]]]\n",
      "[[ 0.       -4.859702  0.      ]]\n",
      "\n",
      "Medoid 2:\n",
      "[[ -0.20350745  39.772488   -26.317415    -6.914577  ]]\n",
      "[[[ 0.         0.         0.         0.       ]\n",
      "  [ 0.         0.         0.         0.       ]\n",
      "  [-7.1583047 -7.1583047 -7.1583047 -7.1583047]]]\n",
      "[[ 0.         0.        -7.1583047]]\n",
      "\n"
     ]
    }
   ],
   "source": [
    "def analyze_representatives(model, name=\"guided_backprop\"):\n",
    "    model_wo_softmax = Model(model.inputs, [model.layers[-2].output])\n",
    "    analyzer = create_analyzer( \n",
    "        name, \n",
    "        model_wo_softmax,\n",
    "        neuron_selection_mode=\"index\",\n",
    "        allow_lambda_layers=True,\n",
    "        reverse_keep_tensors=True)\n",
    "\n",
    "    medoids = find_representatives(model)\n",
    "    for i in range(3):\n",
    "        print(\"Medoid {}:\".format(i))\n",
    "        print(analyzer.analyze(np.reshape(medoids[i], (1,-1)), i))\n",
    "        for x in filter(lambda x: x[0][0] >= 0, analyzer._reversed_tensors):\n",
    "            print(x[1])\n",
    "        print()\n",
    "        \n",
    "analyze_representatives(model)"
   ]
  },
  {
   "cell_type": "markdown",
   "metadata": {},
   "source": [
    "Looking at the intermediate values for the analysis of the fuzzy classifier and the deep hybrid model it appears that standard guided backprop may not work well with the fuzzy classifier layer.\n",
    "\n",
    "The initial values uses for relevance propagation (the logits) are always negative. Because the logits are the log-firing strength of each rule, and the firing strength of each rule is between 0 and 1, meaning the log value is always negative."
   ]
  },
  {
   "cell_type": "code",
   "execution_count": 7,
   "metadata": {},
   "outputs": [
    {
     "name": "stdout",
     "output_type": "stream",
     "text": [
      "Medoid 0:\n",
      "[[  51.46699   40.14784 -182.81247 -206.48535]]\n",
      "[[69.75858  70.79524  32.361595 72.74559 ]]\n",
      "[[[-20.333084 -20.333084 -20.333084 -20.333084]\n",
      "  [  0.         0.         0.         0.      ]\n",
      "  [  0.         0.         0.         0.      ]]]\n",
      "[[-20.333084   0.         0.      ]]\n",
      "\n",
      "Medoid 1:\n",
      "[[ 4.5057893  -0.52497435 13.373286   11.013485  ]]\n",
      "[[ 6.264466    2.7368186  -0.47844446 11.289158  ]]\n",
      "[[[ 0.         0.         0.         0.       ]\n",
      "  [-3.6560938 -3.6560938 -3.6560938 -3.6560938]\n",
      "  [ 0.         0.         0.         0.       ]]]\n",
      "[[ 0.        -3.6560938  0.       ]]\n",
      "\n",
      "Medoid 2:\n",
      "[[-0.06720643 -1.7291461   8.088892    6.7629123 ]]\n",
      "[[38.64488   10.850702  15.531329   3.7027462]]\n",
      "[[[ 0.         0.         0.         0.       ]\n",
      "  [ 0.         0.         0.         0.       ]\n",
      "  [-7.8579645 -7.8579645 -7.8579645 -7.8579645]]]\n",
      "[[ 0.         0.        -7.8579645]]\n",
      "\n"
     ]
    }
   ],
   "source": [
    "analyze_representatives(deep_model)"
   ]
  },
  {
   "cell_type": "markdown",
   "metadata": {},
   "source": [
    "This section prints the forward pass of the model for each of the three class representatives using NumPy. It will be used to determine how the model classifies examples and how relevance could be propagated.\n",
    "\n",
    "The fuzzy classifier can be interpretted as a nearest centroid classifier with a learned distance metric. The parameter mu acts as the centroids, while beta is the importance of each input dimension for each sample. The closer sample is to a given centroid along the important axis (defined by beta), the higher the firing strength."
   ]
  },
  {
   "cell_type": "code",
   "execution_count": 8,
   "metadata": {},
   "outputs": [
    {
     "name": "stdout",
     "output_type": "stream",
     "text": [
      "Mu:\n",
      "[[-0.9344134   1.1650351  -1.7100568  -1.6146065 ]\n",
      " [ 1.1672817  -0.35024592 -0.49697405 -0.79142064]\n",
      " [ 0.5738806  -1.3329495   2.226618    2.0279117 ]]\n",
      "Beta:\n",
      "[[1.1208284 1.7407651 3.5700238 3.8896816]\n",
      " [2.3754458 1.5144322 5.3539248 4.657668 ]\n",
      " [1.3836132 2.9373274 3.8605468 3.0585933]]\n",
      "\n",
      "CLASS 0\n",
      "Input:\n",
      "[[[-1.5065205   1.24920109 -1.56757623 -1.31544428]]]\n",
      "\n",
      "Memberships\n",
      "[[[-1.83427247e-01 -6.16571074e-03 -3.62370068e-02 -1.74059429e-01]\n",
      "  [-8.49129066e+00 -1.93713350e+00 -3.06830487e+00 -6.39499635e-01]\n",
      "  [-2.99418663e+00 -9.79231776e+00 -2.77880427e+01 -1.70945221e+01]]]\n",
      "\n",
      "Firing Strengths / Logits\n",
      "[[ -0.39988939 -14.13622866 -57.66906921]]\n",
      "\n",
      "CLASS 1\n",
      "Input:\n",
      "[[[ 0.18982966 -1.97355356  0.13754657 -0.26238682]]]\n",
      "\n",
      "Memberships\n",
      "[[[-0.70832006 -8.57391129 -6.09338468 -3.55613763]\n",
      "  [-1.13476542 -1.99536111 -1.07778901 -0.65178659]\n",
      "  [-0.10203811 -0.60270072 -8.42413715 -8.02187524]]]\n",
      "\n",
      "Firing Strengths / Logits\n",
      "[[-18.93175366  -4.85970213 -17.15075122]]\n",
      "\n",
      "CLASS 2\n",
      "Input:\n",
      "[[[0.55333327 0.55861081 1.2742951  1.71209592]]]\n",
      "\n",
      "Memberships\n",
      "[[[-1.24041521e+00 -3.20083581e-01 -1.58979517e+01 -2.15234538e+01]\n",
      "  [-4.47691648e-01 -6.25476059e-01 -8.39868682e+00 -1.45961891e+01]\n",
      "  [-2.92076164e-04 -5.25487938e+00 -1.75060163e+00 -1.52531409e-01]]]\n",
      "\n",
      "Firing Strengths / Logits\n",
      "[[-38.98190427 -24.0680436   -7.15830449]]\n",
      "\n"
     ]
    }
   ],
   "source": [
    "def model_forward(mu, beta, x):\n",
    "    x = x.reshape(-1, 1, 4)\n",
    "    print(\"Input:\")\n",
    "    print(x)\n",
    "    print()\n",
    "    \n",
    "    m = -0.5 * beta * np.square(x - mu)\n",
    "    print(\"Memberships\")\n",
    "    print(m)\n",
    "    print()\n",
    "    \n",
    "    f = np.sum(m, axis=-1)\n",
    "    print(\"Firing Strengths / Logits\")\n",
    "    print(f)\n",
    "    print()\n",
    "    \n",
    "\n",
    "mu, beta = model.layers[-3].get_weights()\n",
    "\n",
    "print(\"Mu:\")\n",
    "print(mu)\n",
    "print(\"Beta:\")\n",
    "print(beta)\n",
    "print()\n",
    "\n",
    "for i in range(3):\n",
    "    print(\"CLASS {}\".format(i))\n",
    "    model_forward(mu, beta, medoids[i])"
   ]
  },
  {
   "cell_type": "markdown",
   "metadata": {},
   "source": [
    "One possible measure of relevance could be computed as shown below. This is just a heuristic measure defined to satisfy some simple properties I felt the relevance measure should have.\n",
    "\n",
    "1. R should increase if beta increases.\n",
    "2. R should increase if the difference between mu and the sample decreases."
   ]
  },
  {
   "cell_type": "code",
   "execution_count": 9,
   "metadata": {},
   "outputs": [
    {
     "name": "stdout",
     "output_type": "stream",
     "text": [
      "Class 0 feature relevance.\n",
      "[0.84443822 1.72852041 3.49899176 3.57015933]\n",
      "\n",
      "Class 1 feature relevance.\n",
      "[1.21480544 0.41661045 3.8170983  3.63915353]\n",
      "\n",
      "Class 2 feature relevance.\n",
      "[1.38302932 0.64161797 2.0244944  2.78119777]\n",
      "\n"
     ]
    }
   ],
   "source": [
    "for i in range(3):\n",
    "    print(\"Class {} feature relevance.\".format(i))\n",
    "    R = beta[i] / (1 + np.square(medoids[i] - mu[i]))\n",
    "    print(R)\n",
    "    print()"
   ]
  },
  {
   "cell_type": "markdown",
   "metadata": {},
   "source": [
    "This heuristic seems to have some value, as the features with high relevance cause the largest drop in accuracy when masked out. Since the features were normalized to 0 mean, the code below essential masks a feature by replacing its values with the mean of the that feature."
   ]
  },
  {
   "cell_type": "code",
   "execution_count": 10,
   "metadata": {},
   "outputs": [
    {
     "name": "stdout",
     "output_type": "stream",
     "text": [
      "Feature 0 masked: Loss = 0.056, Accuracy = 0.97\n",
      "Feature 1 masked: Loss = 0.059, Accuracy = 0.96\n",
      "Feature 2 masked: Loss = 0.983, Accuracy = 0.69\n",
      "Feature 3 masked: Loss = 0.876, Accuracy = 0.71\n"
     ]
    }
   ],
   "source": [
    "test_y = train_y\n",
    "\n",
    "for i in range(4):\n",
    "    test_x = np.copy(train_x)\n",
    "    test_x[:,i] = 0\n",
    "    \n",
    "    loss, accuracy = model.evaluate(test_x, test_y, verbose=0)\n",
    "    print(\"Feature {} masked: Loss = {:.3f}, Accuracy = {:.2f}\".format(i, loss, accuracy))"
   ]
  },
  {
   "cell_type": "markdown",
   "metadata": {},
   "source": [
    "A custom analyzer is created that implements the heuristic relevance shown discussed above. This analyzer should work for any neural network implementing the fuzzy rules layer."
   ]
  },
  {
   "cell_type": "code",
   "execution_count": 11,
   "metadata": {},
   "outputs": [
    {
     "name": "stdout",
     "output_type": "stream",
     "text": [
      "Medoid 0:\n",
      "[[0.84443825 1.7285204  3.4989917  3.5701592 ]]\n",
      "[[[1. 1. 1. 1.]\n",
      "  [0. 0. 0. 0.]\n",
      "  [0. 0. 0. 0.]]]\n",
      "[[1. 0. 0.]]\n",
      "\n",
      "Medoid 1:\n",
      "[[1.2148054  0.41661048 3.8170981  3.6391537 ]]\n",
      "[[[0. 0. 0. 0.]\n",
      "  [1. 1. 1. 1.]\n",
      "  [0. 0. 0. 0.]]]\n",
      "[[0. 1. 0.]]\n",
      "\n",
      "Medoid 2:\n",
      "[[1.3830292  0.64161795 2.0244944  2.7811978 ]]\n",
      "[[[0. 0. 0. 0.]\n",
      "  [0. 0. 0. 0.]\n",
      "  [1. 1. 1. 1.]]]\n",
      "[[0. 0. 1.]]\n",
      "\n"
     ]
    }
   ],
   "source": [
    "from innvestigate.analyzer import base\n",
    "from innvestigate import layers as ilayers\n",
    "from innvestigate.utils.keras import checks as kchecks\n",
    "from innvestigate.utils.keras import graph as kgraph\n",
    "from innvestigate.analyzer.gradient_based import GuidedBackpropReverseReLULayer\n",
    "\n",
    "\n",
    "\"\"\"\n",
    "The code below is taken from the iNNvestigate package and modified\n",
    "to be used with the deep-fuzzy network hybrid.\n",
    "\n",
    "The original source can be found at.\n",
    "https://github.com/albermax/innvestigate/blob/master/innvestigate/analyzer/gradient_based.py\n",
    "\"\"\"\n",
    "\n",
    "\n",
    "class ReverseLogGaussMFLayer(kgraph.ReverseMappingBase):\n",
    "\n",
    "    def __init__(self, layer, state):\n",
    "        self.mu = layer.mu\n",
    "        self.beta = layer.beta\n",
    "        \n",
    "        \n",
    "    def reverse_fn(self, Xs, Ys, reversed_Ys):\n",
    "        x = K.expand_dims(Xs, axis=0)\n",
    "        x = 1 + K.square(x - self.mu)\n",
    "        x = reversed_Ys * self.beta / x\n",
    "        return K.sum(x, axis=1)\n",
    "        \n",
    "\n",
    "    def apply(self, Xs, Ys, reversed_Ys, reverse_state):\n",
    "        return layers.Lambda(lambda x: self.reverse_fn(*x))(Xs + Ys + reversed_Ys)\n",
    "\n",
    "\n",
    "class DNFISGuidedBackprop(base.ReverseAnalyzerBase):\n",
    "    \"\"\"Guided backprop analyzer.\n",
    "    Applies the \"guided backprop\" algorithm to analyze the model.\n",
    "    :param model: A Keras model.\n",
    "    \"\"\"\n",
    "\n",
    "    def __init__(self, model, **kwargs):\n",
    "\n",
    "        self._add_model_softmax_check()\n",
    "        self._add_model_check(\n",
    "            lambda layer: not kchecks.only_relu_activation(layer),\n",
    "            \"GuidedBackprop is only specified for \"\n",
    "            \"networks with ReLU activations.\",\n",
    "            check_type=\"exception\",\n",
    "        )\n",
    "        \n",
    "        assert(isinstance(model.layers[-2], LogGaussMF))\n",
    "        self.mu, self.beta = model.layers[-2].get_weights()\n",
    "\n",
    "        super(DNFISGuidedBackprop, self).__init__(model, **kwargs)\n",
    "        \n",
    "        \n",
    "    def _head_mapping(self, X):\n",
    "        return ilayers.OnesLike()(X)\n",
    "        \n",
    "\n",
    "    def _create_analysis(self, *args, **kwargs):\n",
    "\n",
    "        self._add_conditional_reverse_mapping(\n",
    "            lambda layer: kchecks.contains_activation(layer, \"relu\"),\n",
    "            GuidedBackpropReverseReLULayer,\n",
    "            name=\"guided_backprop_reverse_relu_layer\",\n",
    "        )\n",
    "        self._add_conditional_reverse_mapping(\n",
    "            lambda layer: isinstance(layer, LogGaussMF),\n",
    "            ReverseLogGaussMFLayer,\n",
    "            name=\"reverse_log_gauss_mf\",\n",
    "        )\n",
    "\n",
    "        return super(DNFISGuidedBackprop, self)._create_analysis(*args, **kwargs)\n",
    "    \n",
    "    \n",
    "    # override original function with patched version\n",
    "    def _handle_debug_output(self, debug_values):\n",
    "    \n",
    "        if self._reverse_check_min_max_values:\n",
    "            indices = self._debug_tensors_indices[\"min\"]\n",
    "            tmp = debug_values[indices[0]:indices[1]]\n",
    "            tmp = sorted([(self._reverse_tensors_mapping[i], v)\n",
    "                          for i, v in enumerate(tmp)])\n",
    "            print(\"Minimum values in tensors: \"\n",
    "                  \"((NodeID, TensorID), Value) - {}\".format(tmp))\n",
    "\n",
    "            indices = self._debug_tensors_indices[\"max\"]\n",
    "            tmp = debug_values[indices[0]:indices[1]]\n",
    "            tmp = sorted([(self._reverse_tensors_mapping[i], v)\n",
    "                          for i, v in enumerate(tmp)])\n",
    "            print(\"Maximum values in tensors: \"\n",
    "                  \"((NodeID, TensorID), Value) - {}\".format(tmp))\n",
    "\n",
    "        if self._reverse_check_finite:\n",
    "            indices = self._debug_tensors_indices[\"finite\"]\n",
    "            tmp = debug_values[indices[0]:indices[1]]\n",
    "            nfinite_tensors = np.flatnonzero(np.asarray(tmp) > 0)\n",
    "\n",
    "            if len(nfinite_tensors) > 0:\n",
    "                nfinite_tensors = sorted([self._reverse_tensors_mapping[i]\n",
    "                                          for i in nfinite_tensors])\n",
    "                print(\"Not finite values found in following nodes: \"\n",
    "                      \"(NodeID, TensorID) - {}\".format(nfinite_tensors))\n",
    "\n",
    "        if self._reverse_keep_tensors:\n",
    "            indices = self._debug_tensors_indices[\"keep\"]\n",
    "            tmp = debug_values[indices[0]:indices[1]]\n",
    "            # added: key=lambda x: x[0]\n",
    "            tmp = sorted([(self._reverse_tensors_mapping[i], v)\n",
    "                          for i, v in enumerate(tmp)], key=lambda x: x[0])\n",
    "            self._reversed_tensors = tmp\n",
    "            \n",
    "\n",
    "def analyze_representatives_v2(model):\n",
    "    model_wo_softmax = Model(model.inputs, [model.layers[-2].output])\n",
    "    analyzer = DNFISGuidedBackprop(\n",
    "        model_wo_softmax,\n",
    "        neuron_selection_mode=\"index\",\n",
    "        allow_lambda_layers=True,\n",
    "        reverse_keep_tensors=True)\n",
    "    \n",
    "    medoids = find_representatives(model)\n",
    "    for i in range(3):\n",
    "        print(\"Medoid {}:\".format(i))\n",
    "        print(analyzer.analyze(np.reshape(medoids[i], (1,-1)), i))\n",
    "        for x in filter(lambda x: x[0][0] >= 0, analyzer._reversed_tensors):\n",
    "            print(x[1])\n",
    "        print()\n",
    "    \n",
    "analyze_representatives_v2(model)"
   ]
  },
  {
   "cell_type": "markdown",
   "metadata": {},
   "source": [
    "The relevance values of the input dimension can be inspected to see if they match the results found with the fuzzy classifier. There is some similarity with the results, as the most relevant features found here are the ones with the largest absolute values.\n",
    "\n",
    "Unfortunately, this would likely cause problems in a deeper model, as negative relevance values are masked out in guided backprop."
   ]
  },
  {
   "cell_type": "code",
   "execution_count": 12,
   "metadata": {},
   "outputs": [
    {
     "name": "stdout",
     "output_type": "stream",
     "text": [
      "Medoid 0:\n",
      "[[ 0.11084145 -0.07470845 -0.14233796 -0.23833925]]\n",
      "[[0.02091157 0.16890283 0.01651053 0.6113938 ]]\n",
      "[[[1. 1. 1. 1.]\n",
      "  [0. 0. 0. 0.]\n",
      "  [0. 0. 0. 0.]]]\n",
      "[[1. 0. 0.]]\n",
      "\n",
      "Medoid 1:\n",
      "[[ 1.108629    0.34342086 -1.2082992  -1.3321395 ]]\n",
      "[[1.0817664 0.9141469 1.7357233 0.4488804]]\n",
      "[[[0. 0. 0. 0.]\n",
      "  [1. 1. 1. 1.]\n",
      "  [0. 0. 0. 0.]]]\n",
      "[[0. 1. 0.]]\n",
      "\n",
      "Medoid 2:\n",
      "[[-3.8492195e-05 -9.9036098e-04  4.6328777e-03  3.8734288e-03]]\n",
      "[[0.5826567  0.6721247  0.7362114  0.00212073]]\n",
      "[[[0. 0. 0. 0.]\n",
      "  [0. 0. 0. 0.]\n",
      "  [1. 1. 1. 1.]]]\n",
      "[[0. 0. 1.]]\n",
      "\n"
     ]
    }
   ],
   "source": [
    "analyze_representatives_v2(deep_model)"
   ]
  }
 ],
 "metadata": {
  "kernelspec": {
   "display_name": "keras",
   "language": "python",
   "name": "keras"
  },
  "language_info": {
   "codemirror_mode": {
    "name": "ipython",
    "version": 3
   },
   "file_extension": ".py",
   "mimetype": "text/x-python",
   "name": "python",
   "nbconvert_exporter": "python",
   "pygments_lexer": "ipython3",
   "version": "3.7.2"
  }
 },
 "nbformat": 4,
 "nbformat_minor": 2
}
